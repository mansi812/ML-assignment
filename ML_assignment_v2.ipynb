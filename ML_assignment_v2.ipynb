{
  "nbformat": 4,
  "nbformat_minor": 0,
  "metadata": {
    "colab": {
      "name": "ML_assignment v1.ipynb",
      "provenance": [],
      "collapsed_sections": [],
      "include_colab_link": true
    },
    "kernelspec": {
      "name": "python3",
      "display_name": "Python 3"
    },
    "language_info": {
      "name": "python"
    }
  },
  "cells": [
    {
      "cell_type": "markdown",
      "metadata": {
        "id": "view-in-github",
        "colab_type": "text"
      },
      "source": [
        "<a href=\"https://colab.research.google.com/github/mansi812/ML-assignment/blob/main/ML_assignment_v2.ipynb\" target=\"_parent\"><img src=\"https://colab.research.google.com/assets/colab-badge.svg\" alt=\"Open In Colab\"/></a>"
      ]
    },
    {
      "cell_type": "code",
      "metadata": {
        "id": "iXBe8JUl-8lF"
      },
      "source": [
        "import numpy as np\n",
        "import pandas as pd\n",
        "import matplotlib.pyplot as plt\n",
        "import seaborn as sns"
      ],
      "execution_count": null,
      "outputs": []
    },
    {
      "cell_type": "markdown",
      "metadata": {
        "id": "r_kPiUb-IKlv"
      },
      "source": [
        ""
      ]
    },
    {
      "cell_type": "code",
      "metadata": {
        "id": "p7aQ0yO-_aGJ",
        "colab": {
          "resources": {
            "http://localhost:8080/nbextensions/google.colab/files.js": {
              "data": "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",
              "ok": true,
              "headers": [
                [
                  "content-type",
                  "application/javascript"
                ]
              ],
              "status": 200,
              "status_text": ""
            }
          },
          "base_uri": "https://localhost:8080/",
          "height": 89
        },
        "outputId": "c21ad022-4a26-46ce-88da-f2a410b38f4b"
      },
      "source": [
        "#The following code snippet is used to upload a file from the local drive to Colab\n",
        "from google.colab import files\n",
        "\n",
        "uploaded = files.upload()\n",
        "\n",
        "for fn in uploaded.keys():\n",
        "  print('User uploaded file \"{name}\" with length {length} bytes'.format(\n",
        "      name=fn, length=len(uploaded[fn])))"
      ],
      "execution_count": null,
      "outputs": [
        {
          "output_type": "display_data",
          "data": {
            "text/html": [
              "\n",
              "     <input type=\"file\" id=\"files-11b4090e-8d02-4a05-9893-66e337d4f887\" name=\"files[]\" multiple disabled\n",
              "        style=\"border:none\" />\n",
              "     <output id=\"result-11b4090e-8d02-4a05-9893-66e337d4f887\">\n",
              "      Upload widget is only available when the cell has been executed in the\n",
              "      current browser session. Please rerun this cell to enable.\n",
              "      </output>\n",
              "      <script src=\"/nbextensions/google.colab/files.js\"></script> "
            ],
            "text/plain": [
              "<IPython.core.display.HTML object>"
            ]
          },
          "metadata": {}
        },
        {
          "output_type": "stream",
          "name": "stdout",
          "text": [
            "Saving Coupon Reco.xlsx to Coupon Reco.xlsx\n",
            "User uploaded file \"Coupon Reco.xlsx\" with length 1207913 bytes\n"
          ]
        }
      ]
    },
    {
      "cell_type": "code",
      "metadata": {
        "id": "OdBIMtlK_kZk"
      },
      "source": [
        "fname = \"Coupon Reco.xlsx\"\n",
        "df = pd.read_excel(fname)\n"
      ],
      "execution_count": null,
      "outputs": []
    },
    {
      "cell_type": "code",
      "metadata": {
        "id": "l9MidFFc_8U1",
        "colab": {
          "base_uri": "https://localhost:8080/",
          "height": 394
        },
        "outputId": "4eb8af98-3360-4a03-af0b-0bded1272810"
      },
      "source": [
        "#Check the first 5 records\n",
        "df.head()"
      ],
      "execution_count": null,
      "outputs": [
        {
          "output_type": "execute_result",
          "data": {
            "text/html": [
              "<div>\n",
              "<style scoped>\n",
              "    .dataframe tbody tr th:only-of-type {\n",
              "        vertical-align: middle;\n",
              "    }\n",
              "\n",
              "    .dataframe tbody tr th {\n",
              "        vertical-align: top;\n",
              "    }\n",
              "\n",
              "    .dataframe thead th {\n",
              "        text-align: right;\n",
              "    }\n",
              "</style>\n",
              "<table border=\"1\" class=\"dataframe\">\n",
              "  <thead>\n",
              "    <tr style=\"text-align: right;\">\n",
              "      <th></th>\n",
              "      <th>destination</th>\n",
              "      <th>passenger</th>\n",
              "      <th>weather</th>\n",
              "      <th>temperature</th>\n",
              "      <th>time</th>\n",
              "      <th>coupon</th>\n",
              "      <th>expiration</th>\n",
              "      <th>gender</th>\n",
              "      <th>age</th>\n",
              "      <th>maritalStatus</th>\n",
              "      <th>has_children</th>\n",
              "      <th>education</th>\n",
              "      <th>occupation</th>\n",
              "      <th>income</th>\n",
              "      <th>Bar</th>\n",
              "      <th>CoffeeHouse</th>\n",
              "      <th>CarryAway</th>\n",
              "      <th>RestaurantLessThan20</th>\n",
              "      <th>Restaurant20To50</th>\n",
              "      <th>toCoupon_GEQ5min</th>\n",
              "      <th>toCoupon_GEQ15min</th>\n",
              "      <th>toCoupon_GEQ25min</th>\n",
              "      <th>direction_same</th>\n",
              "      <th>direction_opp</th>\n",
              "      <th>Y</th>\n",
              "    </tr>\n",
              "  </thead>\n",
              "  <tbody>\n",
              "    <tr>\n",
              "      <th>0</th>\n",
              "      <td>No Urgent Place</td>\n",
              "      <td>Alone</td>\n",
              "      <td>Sunny</td>\n",
              "      <td>55</td>\n",
              "      <td>2PM</td>\n",
              "      <td>Restaurant(&lt;20)</td>\n",
              "      <td>1d</td>\n",
              "      <td>Female</td>\n",
              "      <td>21</td>\n",
              "      <td>Unmarried partner</td>\n",
              "      <td>1</td>\n",
              "      <td>Some college - no degree</td>\n",
              "      <td>Unemployed</td>\n",
              "      <td>$37500 - $49999</td>\n",
              "      <td>never</td>\n",
              "      <td>never</td>\n",
              "      <td>NaN</td>\n",
              "      <td>4~8</td>\n",
              "      <td>1~3</td>\n",
              "      <td>1</td>\n",
              "      <td>0</td>\n",
              "      <td>0</td>\n",
              "      <td>0</td>\n",
              "      <td>1</td>\n",
              "      <td>1</td>\n",
              "    </tr>\n",
              "    <tr>\n",
              "      <th>1</th>\n",
              "      <td>No Urgent Place</td>\n",
              "      <td>Friend(s)</td>\n",
              "      <td>Sunny</td>\n",
              "      <td>80</td>\n",
              "      <td>10AM</td>\n",
              "      <td>Coffee House</td>\n",
              "      <td>2h</td>\n",
              "      <td>Female</td>\n",
              "      <td>21</td>\n",
              "      <td>Unmarried partner</td>\n",
              "      <td>1</td>\n",
              "      <td>Some college - no degree</td>\n",
              "      <td>Unemployed</td>\n",
              "      <td>$37500 - $49999</td>\n",
              "      <td>never</td>\n",
              "      <td>never</td>\n",
              "      <td>NaN</td>\n",
              "      <td>4~8</td>\n",
              "      <td>1~3</td>\n",
              "      <td>1</td>\n",
              "      <td>0</td>\n",
              "      <td>0</td>\n",
              "      <td>0</td>\n",
              "      <td>1</td>\n",
              "      <td>0</td>\n",
              "    </tr>\n",
              "    <tr>\n",
              "      <th>2</th>\n",
              "      <td>No Urgent Place</td>\n",
              "      <td>Friend(s)</td>\n",
              "      <td>Sunny</td>\n",
              "      <td>80</td>\n",
              "      <td>10AM</td>\n",
              "      <td>Carry out &amp; Take away</td>\n",
              "      <td>2h</td>\n",
              "      <td>Female</td>\n",
              "      <td>21</td>\n",
              "      <td>Unmarried partner</td>\n",
              "      <td>1</td>\n",
              "      <td>Some college - no degree</td>\n",
              "      <td>Unemployed</td>\n",
              "      <td>$37500 - $49999</td>\n",
              "      <td>never</td>\n",
              "      <td>never</td>\n",
              "      <td>NaN</td>\n",
              "      <td>4~8</td>\n",
              "      <td>1~3</td>\n",
              "      <td>1</td>\n",
              "      <td>1</td>\n",
              "      <td>0</td>\n",
              "      <td>0</td>\n",
              "      <td>1</td>\n",
              "      <td>1</td>\n",
              "    </tr>\n",
              "    <tr>\n",
              "      <th>3</th>\n",
              "      <td>No Urgent Place</td>\n",
              "      <td>Friend(s)</td>\n",
              "      <td>Sunny</td>\n",
              "      <td>80</td>\n",
              "      <td>2PM</td>\n",
              "      <td>Coffee House</td>\n",
              "      <td>2h</td>\n",
              "      <td>Female</td>\n",
              "      <td>21</td>\n",
              "      <td>Unmarried partner</td>\n",
              "      <td>1</td>\n",
              "      <td>Some college - no degree</td>\n",
              "      <td>Unemployed</td>\n",
              "      <td>$37500 - $49999</td>\n",
              "      <td>never</td>\n",
              "      <td>never</td>\n",
              "      <td>NaN</td>\n",
              "      <td>4~8</td>\n",
              "      <td>1~3</td>\n",
              "      <td>1</td>\n",
              "      <td>1</td>\n",
              "      <td>0</td>\n",
              "      <td>0</td>\n",
              "      <td>1</td>\n",
              "      <td>0</td>\n",
              "    </tr>\n",
              "    <tr>\n",
              "      <th>4</th>\n",
              "      <td>No Urgent Place</td>\n",
              "      <td>Friend(s)</td>\n",
              "      <td>Sunny</td>\n",
              "      <td>80</td>\n",
              "      <td>2PM</td>\n",
              "      <td>Coffee House</td>\n",
              "      <td>1d</td>\n",
              "      <td>Female</td>\n",
              "      <td>21</td>\n",
              "      <td>Unmarried partner</td>\n",
              "      <td>1</td>\n",
              "      <td>Some college - no degree</td>\n",
              "      <td>Unemployed</td>\n",
              "      <td>$37500 - $49999</td>\n",
              "      <td>never</td>\n",
              "      <td>never</td>\n",
              "      <td>NaN</td>\n",
              "      <td>4~8</td>\n",
              "      <td>1~3</td>\n",
              "      <td>1</td>\n",
              "      <td>1</td>\n",
              "      <td>0</td>\n",
              "      <td>0</td>\n",
              "      <td>1</td>\n",
              "      <td>0</td>\n",
              "    </tr>\n",
              "  </tbody>\n",
              "</table>\n",
              "</div>"
            ],
            "text/plain": [
              "       destination  passenger weather  ...  direction_same direction_opp  Y\n",
              "0  No Urgent Place      Alone   Sunny  ...               0             1  1\n",
              "1  No Urgent Place  Friend(s)   Sunny  ...               0             1  0\n",
              "2  No Urgent Place  Friend(s)   Sunny  ...               0             1  1\n",
              "3  No Urgent Place  Friend(s)   Sunny  ...               0             1  0\n",
              "4  No Urgent Place  Friend(s)   Sunny  ...               0             1  0\n",
              "\n",
              "[5 rows x 25 columns]"
            ]
          },
          "metadata": {},
          "execution_count": 4
        }
      ]
    },
    {
      "cell_type": "code",
      "metadata": {
        "colab": {
          "base_uri": "https://localhost:8080/"
        },
        "id": "MMV42QbwHQFo",
        "outputId": "13a097ac-cf74-4a06-fce2-12dfb9bfcf42"
      },
      "source": [
        "df.shape"
      ],
      "execution_count": null,
      "outputs": [
        {
          "output_type": "execute_result",
          "data": {
            "text/plain": [
              "(12684, 25)"
            ]
          },
          "metadata": {},
          "execution_count": 5
        }
      ]
    },
    {
      "cell_type": "code",
      "metadata": {
        "colab": {
          "base_uri": "https://localhost:8080/",
          "height": 297
        },
        "id": "yDJxRLHCF5gG",
        "outputId": "7524e3f0-885f-4234-8406-8678c54412fd"
      },
      "source": [
        "df.describe()"
      ],
      "execution_count": null,
      "outputs": [
        {
          "output_type": "execute_result",
          "data": {
            "text/html": [
              "<div>\n",
              "<style scoped>\n",
              "    .dataframe tbody tr th:only-of-type {\n",
              "        vertical-align: middle;\n",
              "    }\n",
              "\n",
              "    .dataframe tbody tr th {\n",
              "        vertical-align: top;\n",
              "    }\n",
              "\n",
              "    .dataframe thead th {\n",
              "        text-align: right;\n",
              "    }\n",
              "</style>\n",
              "<table border=\"1\" class=\"dataframe\">\n",
              "  <thead>\n",
              "    <tr style=\"text-align: right;\">\n",
              "      <th></th>\n",
              "      <th>temperature</th>\n",
              "      <th>has_children</th>\n",
              "      <th>toCoupon_GEQ5min</th>\n",
              "      <th>toCoupon_GEQ15min</th>\n",
              "      <th>toCoupon_GEQ25min</th>\n",
              "      <th>direction_same</th>\n",
              "      <th>direction_opp</th>\n",
              "      <th>Y</th>\n",
              "    </tr>\n",
              "  </thead>\n",
              "  <tbody>\n",
              "    <tr>\n",
              "      <th>count</th>\n",
              "      <td>12684.000000</td>\n",
              "      <td>12684.000000</td>\n",
              "      <td>12684.0</td>\n",
              "      <td>12684.000000</td>\n",
              "      <td>12684.000000</td>\n",
              "      <td>12684.000000</td>\n",
              "      <td>12684.000000</td>\n",
              "      <td>12684.000000</td>\n",
              "    </tr>\n",
              "    <tr>\n",
              "      <th>mean</th>\n",
              "      <td>63.301798</td>\n",
              "      <td>0.414144</td>\n",
              "      <td>1.0</td>\n",
              "      <td>0.561495</td>\n",
              "      <td>0.119126</td>\n",
              "      <td>0.214759</td>\n",
              "      <td>0.785241</td>\n",
              "      <td>0.568433</td>\n",
              "    </tr>\n",
              "    <tr>\n",
              "      <th>std</th>\n",
              "      <td>19.154486</td>\n",
              "      <td>0.492593</td>\n",
              "      <td>0.0</td>\n",
              "      <td>0.496224</td>\n",
              "      <td>0.323950</td>\n",
              "      <td>0.410671</td>\n",
              "      <td>0.410671</td>\n",
              "      <td>0.495314</td>\n",
              "    </tr>\n",
              "    <tr>\n",
              "      <th>min</th>\n",
              "      <td>30.000000</td>\n",
              "      <td>0.000000</td>\n",
              "      <td>1.0</td>\n",
              "      <td>0.000000</td>\n",
              "      <td>0.000000</td>\n",
              "      <td>0.000000</td>\n",
              "      <td>0.000000</td>\n",
              "      <td>0.000000</td>\n",
              "    </tr>\n",
              "    <tr>\n",
              "      <th>25%</th>\n",
              "      <td>55.000000</td>\n",
              "      <td>0.000000</td>\n",
              "      <td>1.0</td>\n",
              "      <td>0.000000</td>\n",
              "      <td>0.000000</td>\n",
              "      <td>0.000000</td>\n",
              "      <td>1.000000</td>\n",
              "      <td>0.000000</td>\n",
              "    </tr>\n",
              "    <tr>\n",
              "      <th>50%</th>\n",
              "      <td>80.000000</td>\n",
              "      <td>0.000000</td>\n",
              "      <td>1.0</td>\n",
              "      <td>1.000000</td>\n",
              "      <td>0.000000</td>\n",
              "      <td>0.000000</td>\n",
              "      <td>1.000000</td>\n",
              "      <td>1.000000</td>\n",
              "    </tr>\n",
              "    <tr>\n",
              "      <th>75%</th>\n",
              "      <td>80.000000</td>\n",
              "      <td>1.000000</td>\n",
              "      <td>1.0</td>\n",
              "      <td>1.000000</td>\n",
              "      <td>0.000000</td>\n",
              "      <td>0.000000</td>\n",
              "      <td>1.000000</td>\n",
              "      <td>1.000000</td>\n",
              "    </tr>\n",
              "    <tr>\n",
              "      <th>max</th>\n",
              "      <td>80.000000</td>\n",
              "      <td>1.000000</td>\n",
              "      <td>1.0</td>\n",
              "      <td>1.000000</td>\n",
              "      <td>1.000000</td>\n",
              "      <td>1.000000</td>\n",
              "      <td>1.000000</td>\n",
              "      <td>1.000000</td>\n",
              "    </tr>\n",
              "  </tbody>\n",
              "</table>\n",
              "</div>"
            ],
            "text/plain": [
              "        temperature  has_children  ...  direction_opp             Y\n",
              "count  12684.000000  12684.000000  ...   12684.000000  12684.000000\n",
              "mean      63.301798      0.414144  ...       0.785241      0.568433\n",
              "std       19.154486      0.492593  ...       0.410671      0.495314\n",
              "min       30.000000      0.000000  ...       0.000000      0.000000\n",
              "25%       55.000000      0.000000  ...       1.000000      0.000000\n",
              "50%       80.000000      0.000000  ...       1.000000      1.000000\n",
              "75%       80.000000      1.000000  ...       1.000000      1.000000\n",
              "max       80.000000      1.000000  ...       1.000000      1.000000\n",
              "\n",
              "[8 rows x 8 columns]"
            ]
          },
          "metadata": {},
          "execution_count": 6
        }
      ]
    },
    {
      "cell_type": "code",
      "metadata": {
        "colab": {
          "base_uri": "https://localhost:8080/"
        },
        "id": "ykVBtX8EGGwh",
        "outputId": "f05c22d1-4d25-401d-d7d7-403b8d12b13e"
      },
      "source": [
        "df.isnull().sum()"
      ],
      "execution_count": null,
      "outputs": [
        {
          "output_type": "execute_result",
          "data": {
            "text/plain": [
              "destination               0\n",
              "passenger                 0\n",
              "weather                   0\n",
              "temperature               0\n",
              "time                      0\n",
              "coupon                    0\n",
              "expiration                0\n",
              "gender                    0\n",
              "age                       0\n",
              "maritalStatus             0\n",
              "has_children              0\n",
              "education                 0\n",
              "occupation                0\n",
              "income                    0\n",
              "Bar                     107\n",
              "CoffeeHouse             217\n",
              "CarryAway               151\n",
              "RestaurantLessThan20    130\n",
              "Restaurant20To50        189\n",
              "toCoupon_GEQ5min          0\n",
              "toCoupon_GEQ15min         0\n",
              "toCoupon_GEQ25min         0\n",
              "direction_same            0\n",
              "direction_opp             0\n",
              "Y                         0\n",
              "dtype: int64"
            ]
          },
          "metadata": {},
          "execution_count": 7
        }
      ]
    },
    {
      "cell_type": "code",
      "metadata": {
        "id": "OVh1LQc6AhNH",
        "colab": {
          "base_uri": "https://localhost:8080/"
        },
        "outputId": "643741dc-30f4-46fd-f994-9b5bba91c845"
      },
      "source": [
        "#Distribution of target variable in dataset\n",
        "df['Y'].value_counts()"
      ],
      "execution_count": null,
      "outputs": [
        {
          "output_type": "execute_result",
          "data": {
            "text/plain": [
              "1    7210\n",
              "0    5474\n",
              "Name: Y, dtype: int64"
            ]
          },
          "metadata": {},
          "execution_count": 8
        }
      ]
    },
    {
      "cell_type": "code",
      "metadata": {
        "colab": {
          "base_uri": "https://localhost:8080/"
        },
        "id": "NQB-Nu_gFNUe",
        "outputId": "d8791330-f0f7-4223-8911-fa1e0fbbb965"
      },
      "source": [
        "df.columns"
      ],
      "execution_count": null,
      "outputs": [
        {
          "output_type": "execute_result",
          "data": {
            "text/plain": [
              "Index(['destination', 'passenger', 'weather', 'temperature', 'time', 'coupon',\n",
              "       'expiration', 'gender', 'age', 'maritalStatus', 'has_children',\n",
              "       'education', 'occupation', 'income', 'Bar', 'CoffeeHouse', 'CarryAway',\n",
              "       'RestaurantLessThan20', 'Restaurant20To50', 'toCoupon_GEQ5min',\n",
              "       'toCoupon_GEQ15min', 'toCoupon_GEQ25min', 'direction_same',\n",
              "       'direction_opp', 'Y'],\n",
              "      dtype='object')"
            ]
          },
          "metadata": {},
          "execution_count": 9
        }
      ]
    },
    {
      "cell_type": "markdown",
      "metadata": {
        "id": "E6q5CcNzGThE"
      },
      "source": [
        ""
      ]
    },
    {
      "cell_type": "code",
      "metadata": {
        "colab": {
          "base_uri": "https://localhost:8080/",
          "height": 384
        },
        "id": "dG-JD2kUGUa0",
        "outputId": "ff5cff7c-6f2d-438e-ad98-b73864b307ba"
      },
      "source": [
        "colors = [\"blue\", \"red\"]\n",
        "\n",
        "sns.countplot('Y', data=df, palette=colors)\n",
        "plt.title('Class Distributions \\n (0: Not accepted|| 1: accepted)', fontsize=14)"
      ],
      "execution_count": null,
      "outputs": [
        {
          "output_type": "stream",
          "name": "stderr",
          "text": [
            "/usr/local/lib/python3.7/dist-packages/seaborn/_decorators.py:43: FutureWarning: Pass the following variable as a keyword arg: x. From version 0.12, the only valid positional argument will be `data`, and passing other arguments without an explicit keyword will result in an error or misinterpretation.\n",
            "  FutureWarning\n"
          ]
        },
        {
          "output_type": "execute_result",
          "data": {
            "text/plain": [
              "Text(0.5, 1.0, 'Class Distributions \\n (0: Not accepted|| 1: accepted)')"
            ]
          },
          "metadata": {},
          "execution_count": 10
        },
        {
          "output_type": "display_data",
          "data": {
            "image/png": "[encoded data removed]",
            "text/plain": [
              "<Figure size 432x288 with 1 Axes>"
            ]
          },
          "metadata": {
            "needs_background": "light"
          }
        }
      ]
    },
    {
      "cell_type": "code",
      "metadata": {
        "colab": {
          "base_uri": "https://localhost:8080/",
          "height": 518
        },
        "id": "BPPv6kn3J5Y5",
        "outputId": "515e38da-b77d-402c-9af4-ff2a09a33ed9"
      },
      "source": [
        "#checking which coupons are most accepted\n",
        "plt.figure(figsize=(8,4))\n",
        "sns.displot(df, x='coupon', hue='Y', multiple='stack')\n",
        "plt.xticks(\n",
        "    rotation=45, \n",
        "    horizontalalignment='right',\n",
        "    fontweight='light',\n",
        "    fontsize='x-large'  \n",
        ")"
      ],
      "execution_count": null,
      "outputs": [
        {
          "output_type": "execute_result",
          "data": {
            "text/plain": [
              "([0, 1, 2, 3, 4], <a list of 5 Text major ticklabel objects>)"
            ]
          },
          "metadata": {},
          "execution_count": 11
        },
        {
          "output_type": "display_data",
          "data": {
            "text/plain": [
              "<Figure size 576x288 with 0 Axes>"
            ]
          },
          "metadata": {}
        },
        {
          "output_type": "display_data",
          "data": {
            "image/png": "[encoded data removed]",
            "text/plain": [
              "<Figure size 402.375x360 with 1 Axes>"
            ]
          },
          "metadata": {
            "needs_background": "light"
          }
        }
      ]
    },
    {
      "cell_type": "code",
      "metadata": {
        "colab": {
          "base_uri": "https://localhost:8080/",
          "height": 440
        },
        "id": "iZmzuzixzoOQ",
        "outputId": "58ebdde6-b505-4f5c-ebc8-555c5beb3e7c"
      },
      "source": [
        "#checking which gender accepts coupons the most\n",
        "plt.figure(figsize=(8,4))\n",
        "sns.displot(df, x='gender', hue='Y', multiple='stack')\n",
        "plt.xticks(\n",
        "    rotation=45, \n",
        "    horizontalalignment='right',\n",
        "    fontweight='light',\n",
        "    fontsize='x-large'  \n",
        ")"
      ],
      "execution_count": null,
      "outputs": [
        {
          "output_type": "execute_result",
          "data": {
            "text/plain": [
              "([0, 1], <a list of 2 Text major ticklabel objects>)"
            ]
          },
          "metadata": {},
          "execution_count": 12
        },
        {
          "output_type": "display_data",
          "data": {
            "text/plain": [
              "<Figure size 576x288 with 0 Axes>"
            ]
          },
          "metadata": {}
        },
        {
          "output_type": "display_data",
          "data": {
            "image/png": "[encoded data removed]",
            "text/plain": [
              "<Figure size 402.375x360 with 1 Axes>"
            ]
          },
          "metadata": {
            "needs_background": "light"
          }
        }
      ]
    },
    {
      "cell_type": "code",
      "metadata": {
        "colab": {
          "base_uri": "https://localhost:8080/",
          "height": 492
        },
        "id": "KUMTVG6dw_g9",
        "outputId": "f017b142-e49f-43a5-8704-2063579e0d5b"
      },
      "source": [
        "#checking which income group accepts the coupon the most\n",
        "plt.figure(figsize=(8,4))\n",
        "sns.displot(df, x='income', hue='Y', multiple='stack')\n",
        "plt.xticks(\n",
        "    rotation=45, \n",
        "    horizontalalignment='right',\n",
        "    fontweight='light',\n",
        "    fontsize='x-large'  \n",
        ")"
      ],
      "execution_count": null,
      "outputs": [
        {
          "output_type": "execute_result",
          "data": {
            "text/plain": [
              "([0, 1, 2, 3, 4, 5, 6, 7, 8], <a list of 9 Text major ticklabel objects>)"
            ]
          },
          "metadata": {},
          "execution_count": 13
        },
        {
          "output_type": "display_data",
          "data": {
            "text/plain": [
              "<Figure size 576x288 with 0 Axes>"
            ]
          },
          "metadata": {}
        },
        {
          "output_type": "display_data",
          "data": {
            "image/png": "[encoded data removed]",
            "text/plain": [
              "<Figure size 402.375x360 with 1 Axes>"
            ]
          },
          "metadata": {
            "needs_background": "light"
          }
        }
      ]
    },
    {
      "cell_type": "code",
      "metadata": {
        "colab": {
          "base_uri": "https://localhost:8080/",
          "height": 432
        },
        "id": "y0-Man6xz382",
        "outputId": "e403e31c-3246-4a83-bfd4-8ab578e8ffec"
      },
      "source": [
        "#checking  coupons are most accepted at what time\n",
        "plt.figure(figsize=(8,4))\n",
        "sns.displot(df, x='time', hue='Y', multiple='stack')\n",
        "plt.xticks(\n",
        "    rotation=45, \n",
        "    horizontalalignment='right',\n",
        "    fontweight='light',\n",
        "    fontsize='x-large'  \n",
        ")"
      ],
      "execution_count": null,
      "outputs": [
        {
          "output_type": "execute_result",
          "data": {
            "text/plain": [
              "([0, 1, 2, 3, 4], <a list of 5 Text major ticklabel objects>)"
            ]
          },
          "metadata": {},
          "execution_count": 14
        },
        {
          "output_type": "display_data",
          "data": {
            "text/plain": [
              "<Figure size 576x288 with 0 Axes>"
            ]
          },
          "metadata": {}
        },
        {
          "output_type": "display_data",
          "data": {
            "image/png": "[encoded data removed]",
            "text/plain": [
              "<Figure size 402.375x360 with 1 Axes>"
            ]
          },
          "metadata": {
            "needs_background": "light"
          }
        }
      ]
    },
    {
      "cell_type": "code",
      "metadata": {
        "colab": {
          "base_uri": "https://localhost:8080/",
          "height": 386
        },
        "id": "WtBAApqzRgiw",
        "outputId": "9e9868d0-3209-4bf9-a5b1-c991ceac212f"
      },
      "source": [
        "sns.displot(df, x='toCoupon_GEQ15min', hue='Y', multiple='stack')"
      ],
      "execution_count": null,
      "outputs": [
        {
          "output_type": "execute_result",
          "data": {
            "text/plain": [
              "<seaborn.axisgrid.FacetGrid at 0x7fea537e2950>"
            ]
          },
          "metadata": {},
          "execution_count": 15
        },
        {
          "output_type": "display_data",
          "data": {
            "image/png": "[encoded data removed]",
            "text/plain": [
              "<Figure size 402.375x360 with 1 Axes>"
            ]
          },
          "metadata": {
            "needs_background": "light"
          }
        }
      ]
    },
    {
      "cell_type": "markdown",
      "metadata": {
        "id": "vbva17PKvzmF"
      },
      "source": [
        ""
      ]
    },
    {
      "cell_type": "code",
      "metadata": {
        "colab": {
          "base_uri": "https://localhost:8080/",
          "height": 386
        },
        "id": "tP6Phn8Uv0Sc",
        "outputId": "367ab6e5-b07a-43f0-be34-4145e642e805"
      },
      "source": [
        "sns.displot(df, x='toCoupon_GEQ25min', hue='Y', multiple='stack')"
      ],
      "execution_count": null,
      "outputs": [
        {
          "output_type": "execute_result",
          "data": {
            "text/plain": [
              "<seaborn.axisgrid.FacetGrid at 0x7fea53766910>"
            ]
          },
          "metadata": {},
          "execution_count": 16
        },
        {
          "output_type": "display_data",
          "data": {
            "image/png": "[encoded data removed]",
            "text/plain": [
              "<Figure size 402.375x360 with 1 Axes>"
            ]
          },
          "metadata": {
            "needs_background": "light"
          }
        }
      ]
    },
    {
      "cell_type": "code",
      "metadata": {
        "colab": {
          "base_uri": "https://localhost:8080/",
          "height": 386
        },
        "id": "63_VM6gC1Emh",
        "outputId": "cd4d34b7-cce5-428b-edaf-2f72a6b5aaa9"
      },
      "source": [
        "##checking whether the direction of the rest/bar impacts the coupon acceptance\n",
        "sns.displot(df, x='direction_same', hue='Y', multiple='stack')"
      ],
      "execution_count": null,
      "outputs": [
        {
          "output_type": "execute_result",
          "data": {
            "text/plain": [
              "<seaborn.axisgrid.FacetGrid at 0x7fea537ecc10>"
            ]
          },
          "metadata": {},
          "execution_count": 17
        },
        {
          "output_type": "display_data",
          "data": {
            "image/png": "[encoded data removed]",
            "text/plain": [
              "<Figure size 402.375x360 with 1 Axes>"
            ]
          },
          "metadata": {
            "needs_background": "light"
          }
        }
      ]
    },
    {
      "cell_type": "code",
      "metadata": {
        "colab": {
          "base_uri": "https://localhost:8080/",
          "height": 386
        },
        "id": "BgHhopRq1OES",
        "outputId": "471eab08-b053-469e-896c-ef9aa13e242c"
      },
      "source": [
        "sns.displot(df, x='direction_opp', hue='Y', multiple='stack')"
      ],
      "execution_count": null,
      "outputs": [
        {
          "output_type": "execute_result",
          "data": {
            "text/plain": [
              "<seaborn.axisgrid.FacetGrid at 0x7fea5370ba90>"
            ]
          },
          "metadata": {},
          "execution_count": 18
        },
        {
          "output_type": "display_data",
          "data": {
            "image/png": "[encoded data removed]",
            "text/plain": [
              "<Figure size 402.375x360 with 1 Axes>"
            ]
          },
          "metadata": {
            "needs_background": "light"
          }
        }
      ]
    },
    {
      "cell_type": "code",
      "metadata": {
        "id": "HIZc9Ds51msH",
        "colab": {
          "base_uri": "https://localhost:8080/"
        },
        "outputId": "d2774371-2425-4900-bd70-718eb08ccaec"
      },
      "source": [
        "df.dtypes"
      ],
      "execution_count": null,
      "outputs": [
        {
          "output_type": "execute_result",
          "data": {
            "text/plain": [
              "destination             object\n",
              "passenger               object\n",
              "weather                 object\n",
              "temperature              int64\n",
              "time                    object\n",
              "coupon                  object\n",
              "expiration              object\n",
              "gender                  object\n",
              "age                     object\n",
              "maritalStatus           object\n",
              "has_children             int64\n",
              "education               object\n",
              "occupation              object\n",
              "income                  object\n",
              "Bar                     object\n",
              "CoffeeHouse             object\n",
              "CarryAway               object\n",
              "RestaurantLessThan20    object\n",
              "Restaurant20To50        object\n",
              "toCoupon_GEQ5min         int64\n",
              "toCoupon_GEQ15min        int64\n",
              "toCoupon_GEQ25min        int64\n",
              "direction_same           int64\n",
              "direction_opp            int64\n",
              "Y                        int64\n",
              "dtype: object"
            ]
          },
          "metadata": {},
          "execution_count": 19
        }
      ]
    },
    {
      "cell_type": "code",
      "metadata": {
        "colab": {
          "base_uri": "https://localhost:8080/",
          "height": 386
        },
        "id": "7s7Dn-LYpL-S",
        "outputId": "d99d1cac-c236-4114-cb96-eecda984f9d4"
      },
      "source": [
        "sns.displot(df, x='expiration', hue='Y', multiple='stack')"
      ],
      "execution_count": null,
      "outputs": [
        {
          "output_type": "execute_result",
          "data": {
            "text/plain": [
              "<seaborn.axisgrid.FacetGrid at 0x7fea53840b10>"
            ]
          },
          "metadata": {},
          "execution_count": 20
        },
        {
          "output_type": "display_data",
          "data": {
            "image/png": "[encoded data removed]",
            "text/plain": [
              "<Figure size 402.375x360 with 1 Axes>"
            ]
          },
          "metadata": {
            "needs_background": "light"
          }
        }
      ]
    },
    {
      "cell_type": "code",
      "metadata": {
        "colab": {
          "base_uri": "https://localhost:8080/",
          "height": 386
        },
        "id": "OXNtli_9pY8I",
        "outputId": "6ec0eeb7-1ff4-490a-a79e-2c2917a237f1"
      },
      "source": [
        "sns.displot(df, x='weather', hue='Y', multiple='stack')"
      ],
      "execution_count": null,
      "outputs": [
        {
          "output_type": "execute_result",
          "data": {
            "text/plain": [
              "<seaborn.axisgrid.FacetGrid at 0x7fea537bb190>"
            ]
          },
          "metadata": {},
          "execution_count": 21
        },
        {
          "output_type": "display_data",
          "data": {
            "image/png": "[encoded data removed]",
            "text/plain": [
              "<Figure size 402.375x360 with 1 Axes>"
            ]
          },
          "metadata": {
            "needs_background": "light"
          }
        }
      ]
    },
    {
      "cell_type": "code",
      "metadata": {
        "colab": {
          "base_uri": "https://localhost:8080/",
          "height": 386
        },
        "id": "GOmBthVYpc-x",
        "outputId": "bb8f7955-a4b9-4579-de23-bc9b501e3603"
      },
      "source": [
        "sns.displot(df, x='destination', hue='Y', multiple='stack')"
      ],
      "execution_count": null,
      "outputs": [
        {
          "output_type": "execute_result",
          "data": {
            "text/plain": [
              "<seaborn.axisgrid.FacetGrid at 0x7fea53e7e390>"
            ]
          },
          "metadata": {},
          "execution_count": 22
        },
        {
          "output_type": "display_data",
          "data": {
            "image/png": "[encoded data removed]",
            "text/plain": [
              "<Figure size 402.375x360 with 1 Axes>"
            ]
          },
          "metadata": {
            "needs_background": "light"
          }
        }
      ]
    },
    {
      "cell_type": "code",
      "metadata": {
        "id": "BUAJXPObw70L"
      },
      "source": [
        "#Remove NAs from the dataset\n",
        "data = df.dropna(axis = 0, how ='any')"
      ],
      "execution_count": null,
      "outputs": []
    },
    {
      "cell_type": "code",
      "metadata": {
        "id": "jnNRsMHpxqTs",
        "colab": {
          "base_uri": "https://localhost:8080/"
        },
        "outputId": "73fedb29-5f38-4fb8-922d-a757d9adc3ba"
      },
      "source": [
        "data.shape"
      ],
      "execution_count": null,
      "outputs": [
        {
          "output_type": "execute_result",
          "data": {
            "text/plain": [
              "(12079, 25)"
            ]
          },
          "metadata": {},
          "execution_count": 24
        }
      ]
    },
    {
      "cell_type": "markdown",
      "metadata": {
        "id": "ZvxKcQnqsDQJ"
      },
      "source": [
        "**Naive Bayes Classification Start**"
      ]
    },
    {
      "cell_type": "code",
      "metadata": {
        "id": "oWxIGApDVhrC"
      },
      "source": [
        "data = pd.get_dummies(data, columns = ['destination'])\n",
        "data = pd.get_dummies(data, columns = ['passenger'])\n",
        "data = pd.get_dummies(data, columns = ['weather'])\n",
        "data = pd.get_dummies(data, columns = ['temperature'])\n",
        "data = pd.get_dummies(data, columns = ['time'])\n",
        "data = pd.get_dummies(data, columns = ['coupon'])\n",
        "data = pd.get_dummies(data, columns = ['expiration'])\n",
        "data = pd.get_dummies(data, columns = ['gender'])\n",
        "data = pd.get_dummies(data, columns = ['age'])\n",
        "data = pd.get_dummies(data, columns = ['maritalStatus'])\n",
        "data = pd.get_dummies(data, columns = ['has_children'])\n",
        "data = pd.get_dummies(data, columns = ['education'])\n",
        "data = pd.get_dummies(data, columns = ['occupation'])\n",
        "data = pd.get_dummies(data, columns = ['income'])\n",
        "data = pd.get_dummies(data, columns = ['Bar'])\n",
        "data = pd.get_dummies(data, columns = ['CoffeeHouse'])\n",
        "data = pd.get_dummies(data, columns = ['CarryAway'])\n",
        "data = pd.get_dummies(data, columns = ['RestaurantLessThan20'])\n",
        "data = pd.get_dummies(data, columns = ['Restaurant20To50'])"
      ],
      "execution_count": null,
      "outputs": []
    },
    {
      "cell_type": "code",
      "metadata": {
        "colab": {
          "base_uri": "https://localhost:8080/"
        },
        "id": "UVc_bTYuWosd",
        "outputId": "358f9454-a1df-4196-f149-7c20ecab8312"
      },
      "source": [
        "data.columns"
      ],
      "execution_count": null,
      "outputs": [
        {
          "output_type": "execute_result",
          "data": {
            "text/plain": [
              "Index(['toCoupon_GEQ5min', 'toCoupon_GEQ15min', 'toCoupon_GEQ25min',\n",
              "       'direction_same', 'direction_opp', 'Y', 'destination_Home',\n",
              "       'destination_No Urgent Place', 'destination_Work', 'passenger_Alone',\n",
              "       ...\n",
              "       'RestaurantLessThan20_1~3', 'RestaurantLessThan20_4~8',\n",
              "       'RestaurantLessThan20_gt8', 'RestaurantLessThan20_less1',\n",
              "       'RestaurantLessThan20_never', 'Restaurant20To50_1~3',\n",
              "       'Restaurant20To50_4~8', 'Restaurant20To50_gt8',\n",
              "       'Restaurant20To50_less1', 'Restaurant20To50_never'],\n",
              "      dtype='object', length=113)"
            ]
          },
          "metadata": {},
          "execution_count": 26
        }
      ]
    },
    {
      "cell_type": "code",
      "metadata": {
        "colab": {
          "base_uri": "https://localhost:8080/",
          "height": 287
        },
        "id": "6IqtqoSfWyAN",
        "outputId": "35c241bf-532a-4986-8df1-cad5a8ab2499"
      },
      "source": [
        "data.head()"
      ],
      "execution_count": null,
      "outputs": [
        {
          "output_type": "execute_result",
          "data": {
            "text/html": [
              "<div>\n",
              "<style scoped>\n",
              "    .dataframe tbody tr th:only-of-type {\n",
              "        vertical-align: middle;\n",
              "    }\n",
              "\n",
              "    .dataframe tbody tr th {\n",
              "        vertical-align: top;\n",
              "    }\n",
              "\n",
              "    .dataframe thead th {\n",
              "        text-align: right;\n",
              "    }\n",
              "</style>\n",
              "<table border=\"1\" class=\"dataframe\">\n",
              "  <thead>\n",
              "    <tr style=\"text-align: right;\">\n",
              "      <th></th>\n",
              "      <th>toCoupon_GEQ5min</th>\n",
              "      <th>toCoupon_GEQ15min</th>\n",
              "      <th>toCoupon_GEQ25min</th>\n",
              "      <th>direction_same</th>\n",
              "      <th>direction_opp</th>\n",
              "      <th>Y</th>\n",
              "      <th>destination_Home</th>\n",
              "      <th>destination_No Urgent Place</th>\n",
              "      <th>destination_Work</th>\n",
              "      <th>passenger_Alone</th>\n",
              "      <th>passenger_Friend(s)</th>\n",
              "      <th>passenger_Kid(s)</th>\n",
              "      <th>passenger_Partner</th>\n",
              "      <th>weather_Rainy</th>\n",
              "      <th>weather_Snowy</th>\n",
              "      <th>weather_Sunny</th>\n",
              "      <th>temperature_30</th>\n",
              "      <th>temperature_55</th>\n",
              "      <th>temperature_80</th>\n",
              "      <th>time_10AM</th>\n",
              "      <th>time_10PM</th>\n",
              "      <th>time_2PM</th>\n",
              "      <th>time_6PM</th>\n",
              "      <th>time_7AM</th>\n",
              "      <th>coupon_Bar</th>\n",
              "      <th>coupon_Carry out &amp; Take away</th>\n",
              "      <th>coupon_Coffee House</th>\n",
              "      <th>coupon_Restaurant(20-50)</th>\n",
              "      <th>coupon_Restaurant(&lt;20)</th>\n",
              "      <th>expiration_1d</th>\n",
              "      <th>expiration_2h</th>\n",
              "      <th>gender_Female</th>\n",
              "      <th>gender_Male</th>\n",
              "      <th>age_21</th>\n",
              "      <th>age_26</th>\n",
              "      <th>age_31</th>\n",
              "      <th>age_36</th>\n",
              "      <th>age_41</th>\n",
              "      <th>age_46</th>\n",
              "      <th>age_50plus</th>\n",
              "      <th>...</th>\n",
              "      <th>occupation_Protective Service</th>\n",
              "      <th>occupation_Retired</th>\n",
              "      <th>occupation_Sales &amp; Related</th>\n",
              "      <th>occupation_Student</th>\n",
              "      <th>occupation_Transportation &amp; Material Moving</th>\n",
              "      <th>occupation_Unemployed</th>\n",
              "      <th>income_$100000 or More</th>\n",
              "      <th>income_$12500 - $24999</th>\n",
              "      <th>income_$25000 - $37499</th>\n",
              "      <th>income_$37500 - $49999</th>\n",
              "      <th>income_$50000 - $62499</th>\n",
              "      <th>income_$62500 - $74999</th>\n",
              "      <th>income_$75000 - $87499</th>\n",
              "      <th>income_$87500 - $99999</th>\n",
              "      <th>income_Less than $12500</th>\n",
              "      <th>Bar_1~3</th>\n",
              "      <th>Bar_4~8</th>\n",
              "      <th>Bar_gt8</th>\n",
              "      <th>Bar_less1</th>\n",
              "      <th>Bar_never</th>\n",
              "      <th>CoffeeHouse_1~3</th>\n",
              "      <th>CoffeeHouse_4~8</th>\n",
              "      <th>CoffeeHouse_gt8</th>\n",
              "      <th>CoffeeHouse_less1</th>\n",
              "      <th>CoffeeHouse_never</th>\n",
              "      <th>CarryAway_1~3</th>\n",
              "      <th>CarryAway_4~8</th>\n",
              "      <th>CarryAway_gt8</th>\n",
              "      <th>CarryAway_less1</th>\n",
              "      <th>CarryAway_never</th>\n",
              "      <th>RestaurantLessThan20_1~3</th>\n",
              "      <th>RestaurantLessThan20_4~8</th>\n",
              "      <th>RestaurantLessThan20_gt8</th>\n",
              "      <th>RestaurantLessThan20_less1</th>\n",
              "      <th>RestaurantLessThan20_never</th>\n",
              "      <th>Restaurant20To50_1~3</th>\n",
              "      <th>Restaurant20To50_4~8</th>\n",
              "      <th>Restaurant20To50_gt8</th>\n",
              "      <th>Restaurant20To50_less1</th>\n",
              "      <th>Restaurant20To50_never</th>\n",
              "    </tr>\n",
              "  </thead>\n",
              "  <tbody>\n",
              "    <tr>\n",
              "      <th>22</th>\n",
              "      <td>1</td>\n",
              "      <td>0</td>\n",
              "      <td>0</td>\n",
              "      <td>0</td>\n",
              "      <td>1</td>\n",
              "      <td>1</td>\n",
              "      <td>0</td>\n",
              "      <td>1</td>\n",
              "      <td>0</td>\n",
              "      <td>1</td>\n",
              "      <td>0</td>\n",
              "      <td>0</td>\n",
              "      <td>0</td>\n",
              "      <td>0</td>\n",
              "      <td>0</td>\n",
              "      <td>1</td>\n",
              "      <td>0</td>\n",
              "      <td>1</td>\n",
              "      <td>0</td>\n",
              "      <td>0</td>\n",
              "      <td>0</td>\n",
              "      <td>1</td>\n",
              "      <td>0</td>\n",
              "      <td>0</td>\n",
              "      <td>0</td>\n",
              "      <td>0</td>\n",
              "      <td>0</td>\n",
              "      <td>0</td>\n",
              "      <td>1</td>\n",
              "      <td>1</td>\n",
              "      <td>0</td>\n",
              "      <td>0</td>\n",
              "      <td>1</td>\n",
              "      <td>1</td>\n",
              "      <td>0</td>\n",
              "      <td>0</td>\n",
              "      <td>0</td>\n",
              "      <td>0</td>\n",
              "      <td>0</td>\n",
              "      <td>0</td>\n",
              "      <td>...</td>\n",
              "      <td>0</td>\n",
              "      <td>0</td>\n",
              "      <td>0</td>\n",
              "      <td>0</td>\n",
              "      <td>0</td>\n",
              "      <td>0</td>\n",
              "      <td>0</td>\n",
              "      <td>0</td>\n",
              "      <td>0</td>\n",
              "      <td>0</td>\n",
              "      <td>0</td>\n",
              "      <td>1</td>\n",
              "      <td>0</td>\n",
              "      <td>0</td>\n",
              "      <td>0</td>\n",
              "      <td>0</td>\n",
              "      <td>0</td>\n",
              "      <td>0</td>\n",
              "      <td>0</td>\n",
              "      <td>1</td>\n",
              "      <td>0</td>\n",
              "      <td>0</td>\n",
              "      <td>0</td>\n",
              "      <td>1</td>\n",
              "      <td>0</td>\n",
              "      <td>0</td>\n",
              "      <td>1</td>\n",
              "      <td>0</td>\n",
              "      <td>0</td>\n",
              "      <td>0</td>\n",
              "      <td>0</td>\n",
              "      <td>1</td>\n",
              "      <td>0</td>\n",
              "      <td>0</td>\n",
              "      <td>0</td>\n",
              "      <td>0</td>\n",
              "      <td>0</td>\n",
              "      <td>0</td>\n",
              "      <td>1</td>\n",
              "      <td>0</td>\n",
              "    </tr>\n",
              "    <tr>\n",
              "      <th>23</th>\n",
              "      <td>1</td>\n",
              "      <td>0</td>\n",
              "      <td>0</td>\n",
              "      <td>0</td>\n",
              "      <td>1</td>\n",
              "      <td>0</td>\n",
              "      <td>0</td>\n",
              "      <td>1</td>\n",
              "      <td>0</td>\n",
              "      <td>0</td>\n",
              "      <td>1</td>\n",
              "      <td>0</td>\n",
              "      <td>0</td>\n",
              "      <td>0</td>\n",
              "      <td>0</td>\n",
              "      <td>1</td>\n",
              "      <td>0</td>\n",
              "      <td>0</td>\n",
              "      <td>1</td>\n",
              "      <td>1</td>\n",
              "      <td>0</td>\n",
              "      <td>0</td>\n",
              "      <td>0</td>\n",
              "      <td>0</td>\n",
              "      <td>0</td>\n",
              "      <td>0</td>\n",
              "      <td>1</td>\n",
              "      <td>0</td>\n",
              "      <td>0</td>\n",
              "      <td>0</td>\n",
              "      <td>1</td>\n",
              "      <td>0</td>\n",
              "      <td>1</td>\n",
              "      <td>1</td>\n",
              "      <td>0</td>\n",
              "      <td>0</td>\n",
              "      <td>0</td>\n",
              "      <td>0</td>\n",
              "      <td>0</td>\n",
              "      <td>0</td>\n",
              "      <td>...</td>\n",
              "      <td>0</td>\n",
              "      <td>0</td>\n",
              "      <td>0</td>\n",
              "      <td>0</td>\n",
              "      <td>0</td>\n",
              "      <td>0</td>\n",
              "      <td>0</td>\n",
              "      <td>0</td>\n",
              "      <td>0</td>\n",
              "      <td>0</td>\n",
              "      <td>0</td>\n",
              "      <td>1</td>\n",
              "      <td>0</td>\n",
              "      <td>0</td>\n",
              "      <td>0</td>\n",
              "      <td>0</td>\n",
              "      <td>0</td>\n",
              "      <td>0</td>\n",
              "      <td>0</td>\n",
              "      <td>1</td>\n",
              "      <td>0</td>\n",
              "      <td>0</td>\n",
              "      <td>0</td>\n",
              "      <td>1</td>\n",
              "      <td>0</td>\n",
              "      <td>0</td>\n",
              "      <td>1</td>\n",
              "      <td>0</td>\n",
              "      <td>0</td>\n",
              "      <td>0</td>\n",
              "      <td>0</td>\n",
              "      <td>1</td>\n",
              "      <td>0</td>\n",
              "      <td>0</td>\n",
              "      <td>0</td>\n",
              "      <td>0</td>\n",
              "      <td>0</td>\n",
              "      <td>0</td>\n",
              "      <td>1</td>\n",
              "      <td>0</td>\n",
              "    </tr>\n",
              "    <tr>\n",
              "      <th>24</th>\n",
              "      <td>1</td>\n",
              "      <td>0</td>\n",
              "      <td>0</td>\n",
              "      <td>0</td>\n",
              "      <td>1</td>\n",
              "      <td>1</td>\n",
              "      <td>0</td>\n",
              "      <td>1</td>\n",
              "      <td>0</td>\n",
              "      <td>0</td>\n",
              "      <td>1</td>\n",
              "      <td>0</td>\n",
              "      <td>0</td>\n",
              "      <td>0</td>\n",
              "      <td>0</td>\n",
              "      <td>1</td>\n",
              "      <td>0</td>\n",
              "      <td>0</td>\n",
              "      <td>1</td>\n",
              "      <td>1</td>\n",
              "      <td>0</td>\n",
              "      <td>0</td>\n",
              "      <td>0</td>\n",
              "      <td>0</td>\n",
              "      <td>1</td>\n",
              "      <td>0</td>\n",
              "      <td>0</td>\n",
              "      <td>0</td>\n",
              "      <td>0</td>\n",
              "      <td>1</td>\n",
              "      <td>0</td>\n",
              "      <td>0</td>\n",
              "      <td>1</td>\n",
              "      <td>1</td>\n",
              "      <td>0</td>\n",
              "      <td>0</td>\n",
              "      <td>0</td>\n",
              "      <td>0</td>\n",
              "      <td>0</td>\n",
              "      <td>0</td>\n",
              "      <td>...</td>\n",
              "      <td>0</td>\n",
              "      <td>0</td>\n",
              "      <td>0</td>\n",
              "      <td>0</td>\n",
              "      <td>0</td>\n",
              "      <td>0</td>\n",
              "      <td>0</td>\n",
              "      <td>0</td>\n",
              "      <td>0</td>\n",
              "      <td>0</td>\n",
              "      <td>0</td>\n",
              "      <td>1</td>\n",
              "      <td>0</td>\n",
              "      <td>0</td>\n",
              "      <td>0</td>\n",
              "      <td>0</td>\n",
              "      <td>0</td>\n",
              "      <td>0</td>\n",
              "      <td>0</td>\n",
              "      <td>1</td>\n",
              "      <td>0</td>\n",
              "      <td>0</td>\n",
              "      <td>0</td>\n",
              "      <td>1</td>\n",
              "      <td>0</td>\n",
              "      <td>0</td>\n",
              "      <td>1</td>\n",
              "      <td>0</td>\n",
              "      <td>0</td>\n",
              "      <td>0</td>\n",
              "      <td>0</td>\n",
              "      <td>1</td>\n",
              "      <td>0</td>\n",
              "      <td>0</td>\n",
              "      <td>0</td>\n",
              "      <td>0</td>\n",
              "      <td>0</td>\n",
              "      <td>0</td>\n",
              "      <td>1</td>\n",
              "      <td>0</td>\n",
              "    </tr>\n",
              "    <tr>\n",
              "      <th>25</th>\n",
              "      <td>1</td>\n",
              "      <td>1</td>\n",
              "      <td>0</td>\n",
              "      <td>0</td>\n",
              "      <td>1</td>\n",
              "      <td>0</td>\n",
              "      <td>0</td>\n",
              "      <td>1</td>\n",
              "      <td>0</td>\n",
              "      <td>0</td>\n",
              "      <td>1</td>\n",
              "      <td>0</td>\n",
              "      <td>0</td>\n",
              "      <td>0</td>\n",
              "      <td>0</td>\n",
              "      <td>1</td>\n",
              "      <td>0</td>\n",
              "      <td>0</td>\n",
              "      <td>1</td>\n",
              "      <td>1</td>\n",
              "      <td>0</td>\n",
              "      <td>0</td>\n",
              "      <td>0</td>\n",
              "      <td>0</td>\n",
              "      <td>0</td>\n",
              "      <td>1</td>\n",
              "      <td>0</td>\n",
              "      <td>0</td>\n",
              "      <td>0</td>\n",
              "      <td>0</td>\n",
              "      <td>1</td>\n",
              "      <td>0</td>\n",
              "      <td>1</td>\n",
              "      <td>1</td>\n",
              "      <td>0</td>\n",
              "      <td>0</td>\n",
              "      <td>0</td>\n",
              "      <td>0</td>\n",
              "      <td>0</td>\n",
              "      <td>0</td>\n",
              "      <td>...</td>\n",
              "      <td>0</td>\n",
              "      <td>0</td>\n",
              "      <td>0</td>\n",
              "      <td>0</td>\n",
              "      <td>0</td>\n",
              "      <td>0</td>\n",
              "      <td>0</td>\n",
              "      <td>0</td>\n",
              "      <td>0</td>\n",
              "      <td>0</td>\n",
              "      <td>0</td>\n",
              "      <td>1</td>\n",
              "      <td>0</td>\n",
              "      <td>0</td>\n",
              "      <td>0</td>\n",
              "      <td>0</td>\n",
              "      <td>0</td>\n",
              "      <td>0</td>\n",
              "      <td>0</td>\n",
              "      <td>1</td>\n",
              "      <td>0</td>\n",
              "      <td>0</td>\n",
              "      <td>0</td>\n",
              "      <td>1</td>\n",
              "      <td>0</td>\n",
              "      <td>0</td>\n",
              "      <td>1</td>\n",
              "      <td>0</td>\n",
              "      <td>0</td>\n",
              "      <td>0</td>\n",
              "      <td>0</td>\n",
              "      <td>1</td>\n",
              "      <td>0</td>\n",
              "      <td>0</td>\n",
              "      <td>0</td>\n",
              "      <td>0</td>\n",
              "      <td>0</td>\n",
              "      <td>0</td>\n",
              "      <td>1</td>\n",
              "      <td>0</td>\n",
              "    </tr>\n",
              "    <tr>\n",
              "      <th>26</th>\n",
              "      <td>1</td>\n",
              "      <td>0</td>\n",
              "      <td>0</td>\n",
              "      <td>0</td>\n",
              "      <td>1</td>\n",
              "      <td>0</td>\n",
              "      <td>0</td>\n",
              "      <td>1</td>\n",
              "      <td>0</td>\n",
              "      <td>0</td>\n",
              "      <td>1</td>\n",
              "      <td>0</td>\n",
              "      <td>0</td>\n",
              "      <td>0</td>\n",
              "      <td>0</td>\n",
              "      <td>1</td>\n",
              "      <td>0</td>\n",
              "      <td>0</td>\n",
              "      <td>1</td>\n",
              "      <td>0</td>\n",
              "      <td>0</td>\n",
              "      <td>1</td>\n",
              "      <td>0</td>\n",
              "      <td>0</td>\n",
              "      <td>0</td>\n",
              "      <td>0</td>\n",
              "      <td>1</td>\n",
              "      <td>0</td>\n",
              "      <td>0</td>\n",
              "      <td>1</td>\n",
              "      <td>0</td>\n",
              "      <td>0</td>\n",
              "      <td>1</td>\n",
              "      <td>1</td>\n",
              "      <td>0</td>\n",
              "      <td>0</td>\n",
              "      <td>0</td>\n",
              "      <td>0</td>\n",
              "      <td>0</td>\n",
              "      <td>0</td>\n",
              "      <td>...</td>\n",
              "      <td>0</td>\n",
              "      <td>0</td>\n",
              "      <td>0</td>\n",
              "      <td>0</td>\n",
              "      <td>0</td>\n",
              "      <td>0</td>\n",
              "      <td>0</td>\n",
              "      <td>0</td>\n",
              "      <td>0</td>\n",
              "      <td>0</td>\n",
              "      <td>0</td>\n",
              "      <td>1</td>\n",
              "      <td>0</td>\n",
              "      <td>0</td>\n",
              "      <td>0</td>\n",
              "      <td>0</td>\n",
              "      <td>0</td>\n",
              "      <td>0</td>\n",
              "      <td>0</td>\n",
              "      <td>1</td>\n",
              "      <td>0</td>\n",
              "      <td>0</td>\n",
              "      <td>0</td>\n",
              "      <td>1</td>\n",
              "      <td>0</td>\n",
              "      <td>0</td>\n",
              "      <td>1</td>\n",
              "      <td>0</td>\n",
              "      <td>0</td>\n",
              "      <td>0</td>\n",
              "      <td>0</td>\n",
              "      <td>1</td>\n",
              "      <td>0</td>\n",
              "      <td>0</td>\n",
              "      <td>0</td>\n",
              "      <td>0</td>\n",
              "      <td>0</td>\n",
              "      <td>0</td>\n",
              "      <td>1</td>\n",
              "      <td>0</td>\n",
              "    </tr>\n",
              "  </tbody>\n",
              "</table>\n",
              "<p>5 rows × 113 columns</p>\n",
              "</div>"
            ],
            "text/plain": [
              "    toCoupon_GEQ5min  ...  Restaurant20To50_never\n",
              "22                 1  ...                       0\n",
              "23                 1  ...                       0\n",
              "24                 1  ...                       0\n",
              "25                 1  ...                       0\n",
              "26                 1  ...                       0\n",
              "\n",
              "[5 rows x 113 columns]"
            ]
          },
          "metadata": {},
          "execution_count": 27
        }
      ]
    },
    {
      "cell_type": "code",
      "metadata": {
        "colab": {
          "base_uri": "https://localhost:8080/",
          "height": 287
        },
        "id": "gheNhmy_XYeF",
        "outputId": "ddf6f60c-ab90-4706-aa63-be0ecb6565d9"
      },
      "source": [
        "predictCol = data.pop(\"Y\")\n",
        "data.insert(112, \"Y\", predictCol)\n",
        "data.head()"
      ],
      "execution_count": null,
      "outputs": [
        {
          "output_type": "execute_result",
          "data": {
            "text/html": [
              "<div>\n",
              "<style scoped>\n",
              "    .dataframe tbody tr th:only-of-type {\n",
              "        vertical-align: middle;\n",
              "    }\n",
              "\n",
              "    .dataframe tbody tr th {\n",
              "        vertical-align: top;\n",
              "    }\n",
              "\n",
              "    .dataframe thead th {\n",
              "        text-align: right;\n",
              "    }\n",
              "</style>\n",
              "<table border=\"1\" class=\"dataframe\">\n",
              "  <thead>\n",
              "    <tr style=\"text-align: right;\">\n",
              "      <th></th>\n",
              "      <th>toCoupon_GEQ5min</th>\n",
              "      <th>toCoupon_GEQ15min</th>\n",
              "      <th>toCoupon_GEQ25min</th>\n",
              "      <th>direction_same</th>\n",
              "      <th>direction_opp</th>\n",
              "      <th>destination_Home</th>\n",
              "      <th>destination_No Urgent Place</th>\n",
              "      <th>destination_Work</th>\n",
              "      <th>passenger_Alone</th>\n",
              "      <th>passenger_Friend(s)</th>\n",
              "      <th>passenger_Kid(s)</th>\n",
              "      <th>passenger_Partner</th>\n",
              "      <th>weather_Rainy</th>\n",
              "      <th>weather_Snowy</th>\n",
              "      <th>weather_Sunny</th>\n",
              "      <th>temperature_30</th>\n",
              "      <th>temperature_55</th>\n",
              "      <th>temperature_80</th>\n",
              "      <th>time_10AM</th>\n",
              "      <th>time_10PM</th>\n",
              "      <th>time_2PM</th>\n",
              "      <th>time_6PM</th>\n",
              "      <th>time_7AM</th>\n",
              "      <th>coupon_Bar</th>\n",
              "      <th>coupon_Carry out &amp; Take away</th>\n",
              "      <th>coupon_Coffee House</th>\n",
              "      <th>coupon_Restaurant(20-50)</th>\n",
              "      <th>coupon_Restaurant(&lt;20)</th>\n",
              "      <th>expiration_1d</th>\n",
              "      <th>expiration_2h</th>\n",
              "      <th>gender_Female</th>\n",
              "      <th>gender_Male</th>\n",
              "      <th>age_21</th>\n",
              "      <th>age_26</th>\n",
              "      <th>age_31</th>\n",
              "      <th>age_36</th>\n",
              "      <th>age_41</th>\n",
              "      <th>age_46</th>\n",
              "      <th>age_50plus</th>\n",
              "      <th>age_below21</th>\n",
              "      <th>...</th>\n",
              "      <th>occupation_Retired</th>\n",
              "      <th>occupation_Sales &amp; Related</th>\n",
              "      <th>occupation_Student</th>\n",
              "      <th>occupation_Transportation &amp; Material Moving</th>\n",
              "      <th>occupation_Unemployed</th>\n",
              "      <th>income_$100000 or More</th>\n",
              "      <th>income_$12500 - $24999</th>\n",
              "      <th>income_$25000 - $37499</th>\n",
              "      <th>income_$37500 - $49999</th>\n",
              "      <th>income_$50000 - $62499</th>\n",
              "      <th>income_$62500 - $74999</th>\n",
              "      <th>income_$75000 - $87499</th>\n",
              "      <th>income_$87500 - $99999</th>\n",
              "      <th>income_Less than $12500</th>\n",
              "      <th>Bar_1~3</th>\n",
              "      <th>Bar_4~8</th>\n",
              "      <th>Bar_gt8</th>\n",
              "      <th>Bar_less1</th>\n",
              "      <th>Bar_never</th>\n",
              "      <th>CoffeeHouse_1~3</th>\n",
              "      <th>CoffeeHouse_4~8</th>\n",
              "      <th>CoffeeHouse_gt8</th>\n",
              "      <th>CoffeeHouse_less1</th>\n",
              "      <th>CoffeeHouse_never</th>\n",
              "      <th>CarryAway_1~3</th>\n",
              "      <th>CarryAway_4~8</th>\n",
              "      <th>CarryAway_gt8</th>\n",
              "      <th>CarryAway_less1</th>\n",
              "      <th>CarryAway_never</th>\n",
              "      <th>RestaurantLessThan20_1~3</th>\n",
              "      <th>RestaurantLessThan20_4~8</th>\n",
              "      <th>RestaurantLessThan20_gt8</th>\n",
              "      <th>RestaurantLessThan20_less1</th>\n",
              "      <th>RestaurantLessThan20_never</th>\n",
              "      <th>Restaurant20To50_1~3</th>\n",
              "      <th>Restaurant20To50_4~8</th>\n",
              "      <th>Restaurant20To50_gt8</th>\n",
              "      <th>Restaurant20To50_less1</th>\n",
              "      <th>Restaurant20To50_never</th>\n",
              "      <th>Y</th>\n",
              "    </tr>\n",
              "  </thead>\n",
              "  <tbody>\n",
              "    <tr>\n",
              "      <th>22</th>\n",
              "      <td>1</td>\n",
              "      <td>0</td>\n",
              "      <td>0</td>\n",
              "      <td>0</td>\n",
              "      <td>1</td>\n",
              "      <td>0</td>\n",
              "      <td>1</td>\n",
              "      <td>0</td>\n",
              "      <td>1</td>\n",
              "      <td>0</td>\n",
              "      <td>0</td>\n",
              "      <td>0</td>\n",
              "      <td>0</td>\n",
              "      <td>0</td>\n",
              "      <td>1</td>\n",
              "      <td>0</td>\n",
              "      <td>1</td>\n",
              "      <td>0</td>\n",
              "      <td>0</td>\n",
              "      <td>0</td>\n",
              "      <td>1</td>\n",
              "      <td>0</td>\n",
              "      <td>0</td>\n",
              "      <td>0</td>\n",
              "      <td>0</td>\n",
              "      <td>0</td>\n",
              "      <td>0</td>\n",
              "      <td>1</td>\n",
              "      <td>1</td>\n",
              "      <td>0</td>\n",
              "      <td>0</td>\n",
              "      <td>1</td>\n",
              "      <td>1</td>\n",
              "      <td>0</td>\n",
              "      <td>0</td>\n",
              "      <td>0</td>\n",
              "      <td>0</td>\n",
              "      <td>0</td>\n",
              "      <td>0</td>\n",
              "      <td>0</td>\n",
              "      <td>...</td>\n",
              "      <td>0</td>\n",
              "      <td>0</td>\n",
              "      <td>0</td>\n",
              "      <td>0</td>\n",
              "      <td>0</td>\n",
              "      <td>0</td>\n",
              "      <td>0</td>\n",
              "      <td>0</td>\n",
              "      <td>0</td>\n",
              "      <td>0</td>\n",
              "      <td>1</td>\n",
              "      <td>0</td>\n",
              "      <td>0</td>\n",
              "      <td>0</td>\n",
              "      <td>0</td>\n",
              "      <td>0</td>\n",
              "      <td>0</td>\n",
              "      <td>0</td>\n",
              "      <td>1</td>\n",
              "      <td>0</td>\n",
              "      <td>0</td>\n",
              "      <td>0</td>\n",
              "      <td>1</td>\n",
              "      <td>0</td>\n",
              "      <td>0</td>\n",
              "      <td>1</td>\n",
              "      <td>0</td>\n",
              "      <td>0</td>\n",
              "      <td>0</td>\n",
              "      <td>0</td>\n",
              "      <td>1</td>\n",
              "      <td>0</td>\n",
              "      <td>0</td>\n",
              "      <td>0</td>\n",
              "      <td>0</td>\n",
              "      <td>0</td>\n",
              "      <td>0</td>\n",
              "      <td>1</td>\n",
              "      <td>0</td>\n",
              "      <td>1</td>\n",
              "    </tr>\n",
              "    <tr>\n",
              "      <th>23</th>\n",
              "      <td>1</td>\n",
              "      <td>0</td>\n",
              "      <td>0</td>\n",
              "      <td>0</td>\n",
              "      <td>1</td>\n",
              "      <td>0</td>\n",
              "      <td>1</td>\n",
              "      <td>0</td>\n",
              "      <td>0</td>\n",
              "      <td>1</td>\n",
              "      <td>0</td>\n",
              "      <td>0</td>\n",
              "      <td>0</td>\n",
              "      <td>0</td>\n",
              "      <td>1</td>\n",
              "      <td>0</td>\n",
              "      <td>0</td>\n",
              "      <td>1</td>\n",
              "      <td>1</td>\n",
              "      <td>0</td>\n",
              "      <td>0</td>\n",
              "      <td>0</td>\n",
              "      <td>0</td>\n",
              "      <td>0</td>\n",
              "      <td>0</td>\n",
              "      <td>1</td>\n",
              "      <td>0</td>\n",
              "      <td>0</td>\n",
              "      <td>0</td>\n",
              "      <td>1</td>\n",
              "      <td>0</td>\n",
              "      <td>1</td>\n",
              "      <td>1</td>\n",
              "      <td>0</td>\n",
              "      <td>0</td>\n",
              "      <td>0</td>\n",
              "      <td>0</td>\n",
              "      <td>0</td>\n",
              "      <td>0</td>\n",
              "      <td>0</td>\n",
              "      <td>...</td>\n",
              "      <td>0</td>\n",
              "      <td>0</td>\n",
              "      <td>0</td>\n",
              "      <td>0</td>\n",
              "      <td>0</td>\n",
              "      <td>0</td>\n",
              "      <td>0</td>\n",
              "      <td>0</td>\n",
              "      <td>0</td>\n",
              "      <td>0</td>\n",
              "      <td>1</td>\n",
              "      <td>0</td>\n",
              "      <td>0</td>\n",
              "      <td>0</td>\n",
              "      <td>0</td>\n",
              "      <td>0</td>\n",
              "      <td>0</td>\n",
              "      <td>0</td>\n",
              "      <td>1</td>\n",
              "      <td>0</td>\n",
              "      <td>0</td>\n",
              "      <td>0</td>\n",
              "      <td>1</td>\n",
              "      <td>0</td>\n",
              "      <td>0</td>\n",
              "      <td>1</td>\n",
              "      <td>0</td>\n",
              "      <td>0</td>\n",
              "      <td>0</td>\n",
              "      <td>0</td>\n",
              "      <td>1</td>\n",
              "      <td>0</td>\n",
              "      <td>0</td>\n",
              "      <td>0</td>\n",
              "      <td>0</td>\n",
              "      <td>0</td>\n",
              "      <td>0</td>\n",
              "      <td>1</td>\n",
              "      <td>0</td>\n",
              "      <td>0</td>\n",
              "    </tr>\n",
              "    <tr>\n",
              "      <th>24</th>\n",
              "      <td>1</td>\n",
              "      <td>0</td>\n",
              "      <td>0</td>\n",
              "      <td>0</td>\n",
              "      <td>1</td>\n",
              "      <td>0</td>\n",
              "      <td>1</td>\n",
              "      <td>0</td>\n",
              "      <td>0</td>\n",
              "      <td>1</td>\n",
              "      <td>0</td>\n",
              "      <td>0</td>\n",
              "      <td>0</td>\n",
              "      <td>0</td>\n",
              "      <td>1</td>\n",
              "      <td>0</td>\n",
              "      <td>0</td>\n",
              "      <td>1</td>\n",
              "      <td>1</td>\n",
              "      <td>0</td>\n",
              "      <td>0</td>\n",
              "      <td>0</td>\n",
              "      <td>0</td>\n",
              "      <td>1</td>\n",
              "      <td>0</td>\n",
              "      <td>0</td>\n",
              "      <td>0</td>\n",
              "      <td>0</td>\n",
              "      <td>1</td>\n",
              "      <td>0</td>\n",
              "      <td>0</td>\n",
              "      <td>1</td>\n",
              "      <td>1</td>\n",
              "      <td>0</td>\n",
              "      <td>0</td>\n",
              "      <td>0</td>\n",
              "      <td>0</td>\n",
              "      <td>0</td>\n",
              "      <td>0</td>\n",
              "      <td>0</td>\n",
              "      <td>...</td>\n",
              "      <td>0</td>\n",
              "      <td>0</td>\n",
              "      <td>0</td>\n",
              "      <td>0</td>\n",
              "      <td>0</td>\n",
              "      <td>0</td>\n",
              "      <td>0</td>\n",
              "      <td>0</td>\n",
              "      <td>0</td>\n",
              "      <td>0</td>\n",
              "      <td>1</td>\n",
              "      <td>0</td>\n",
              "      <td>0</td>\n",
              "      <td>0</td>\n",
              "      <td>0</td>\n",
              "      <td>0</td>\n",
              "      <td>0</td>\n",
              "      <td>0</td>\n",
              "      <td>1</td>\n",
              "      <td>0</td>\n",
              "      <td>0</td>\n",
              "      <td>0</td>\n",
              "      <td>1</td>\n",
              "      <td>0</td>\n",
              "      <td>0</td>\n",
              "      <td>1</td>\n",
              "      <td>0</td>\n",
              "      <td>0</td>\n",
              "      <td>0</td>\n",
              "      <td>0</td>\n",
              "      <td>1</td>\n",
              "      <td>0</td>\n",
              "      <td>0</td>\n",
              "      <td>0</td>\n",
              "      <td>0</td>\n",
              "      <td>0</td>\n",
              "      <td>0</td>\n",
              "      <td>1</td>\n",
              "      <td>0</td>\n",
              "      <td>1</td>\n",
              "    </tr>\n",
              "    <tr>\n",
              "      <th>25</th>\n",
              "      <td>1</td>\n",
              "      <td>1</td>\n",
              "      <td>0</td>\n",
              "      <td>0</td>\n",
              "      <td>1</td>\n",
              "      <td>0</td>\n",
              "      <td>1</td>\n",
              "      <td>0</td>\n",
              "      <td>0</td>\n",
              "      <td>1</td>\n",
              "      <td>0</td>\n",
              "      <td>0</td>\n",
              "      <td>0</td>\n",
              "      <td>0</td>\n",
              "      <td>1</td>\n",
              "      <td>0</td>\n",
              "      <td>0</td>\n",
              "      <td>1</td>\n",
              "      <td>1</td>\n",
              "      <td>0</td>\n",
              "      <td>0</td>\n",
              "      <td>0</td>\n",
              "      <td>0</td>\n",
              "      <td>0</td>\n",
              "      <td>1</td>\n",
              "      <td>0</td>\n",
              "      <td>0</td>\n",
              "      <td>0</td>\n",
              "      <td>0</td>\n",
              "      <td>1</td>\n",
              "      <td>0</td>\n",
              "      <td>1</td>\n",
              "      <td>1</td>\n",
              "      <td>0</td>\n",
              "      <td>0</td>\n",
              "      <td>0</td>\n",
              "      <td>0</td>\n",
              "      <td>0</td>\n",
              "      <td>0</td>\n",
              "      <td>0</td>\n",
              "      <td>...</td>\n",
              "      <td>0</td>\n",
              "      <td>0</td>\n",
              "      <td>0</td>\n",
              "      <td>0</td>\n",
              "      <td>0</td>\n",
              "      <td>0</td>\n",
              "      <td>0</td>\n",
              "      <td>0</td>\n",
              "      <td>0</td>\n",
              "      <td>0</td>\n",
              "      <td>1</td>\n",
              "      <td>0</td>\n",
              "      <td>0</td>\n",
              "      <td>0</td>\n",
              "      <td>0</td>\n",
              "      <td>0</td>\n",
              "      <td>0</td>\n",
              "      <td>0</td>\n",
              "      <td>1</td>\n",
              "      <td>0</td>\n",
              "      <td>0</td>\n",
              "      <td>0</td>\n",
              "      <td>1</td>\n",
              "      <td>0</td>\n",
              "      <td>0</td>\n",
              "      <td>1</td>\n",
              "      <td>0</td>\n",
              "      <td>0</td>\n",
              "      <td>0</td>\n",
              "      <td>0</td>\n",
              "      <td>1</td>\n",
              "      <td>0</td>\n",
              "      <td>0</td>\n",
              "      <td>0</td>\n",
              "      <td>0</td>\n",
              "      <td>0</td>\n",
              "      <td>0</td>\n",
              "      <td>1</td>\n",
              "      <td>0</td>\n",
              "      <td>0</td>\n",
              "    </tr>\n",
              "    <tr>\n",
              "      <th>26</th>\n",
              "      <td>1</td>\n",
              "      <td>0</td>\n",
              "      <td>0</td>\n",
              "      <td>0</td>\n",
              "      <td>1</td>\n",
              "      <td>0</td>\n",
              "      <td>1</td>\n",
              "      <td>0</td>\n",
              "      <td>0</td>\n",
              "      <td>1</td>\n",
              "      <td>0</td>\n",
              "      <td>0</td>\n",
              "      <td>0</td>\n",
              "      <td>0</td>\n",
              "      <td>1</td>\n",
              "      <td>0</td>\n",
              "      <td>0</td>\n",
              "      <td>1</td>\n",
              "      <td>0</td>\n",
              "      <td>0</td>\n",
              "      <td>1</td>\n",
              "      <td>0</td>\n",
              "      <td>0</td>\n",
              "      <td>0</td>\n",
              "      <td>0</td>\n",
              "      <td>1</td>\n",
              "      <td>0</td>\n",
              "      <td>0</td>\n",
              "      <td>1</td>\n",
              "      <td>0</td>\n",
              "      <td>0</td>\n",
              "      <td>1</td>\n",
              "      <td>1</td>\n",
              "      <td>0</td>\n",
              "      <td>0</td>\n",
              "      <td>0</td>\n",
              "      <td>0</td>\n",
              "      <td>0</td>\n",
              "      <td>0</td>\n",
              "      <td>0</td>\n",
              "      <td>...</td>\n",
              "      <td>0</td>\n",
              "      <td>0</td>\n",
              "      <td>0</td>\n",
              "      <td>0</td>\n",
              "      <td>0</td>\n",
              "      <td>0</td>\n",
              "      <td>0</td>\n",
              "      <td>0</td>\n",
              "      <td>0</td>\n",
              "      <td>0</td>\n",
              "      <td>1</td>\n",
              "      <td>0</td>\n",
              "      <td>0</td>\n",
              "      <td>0</td>\n",
              "      <td>0</td>\n",
              "      <td>0</td>\n",
              "      <td>0</td>\n",
              "      <td>0</td>\n",
              "      <td>1</td>\n",
              "      <td>0</td>\n",
              "      <td>0</td>\n",
              "      <td>0</td>\n",
              "      <td>1</td>\n",
              "      <td>0</td>\n",
              "      <td>0</td>\n",
              "      <td>1</td>\n",
              "      <td>0</td>\n",
              "      <td>0</td>\n",
              "      <td>0</td>\n",
              "      <td>0</td>\n",
              "      <td>1</td>\n",
              "      <td>0</td>\n",
              "      <td>0</td>\n",
              "      <td>0</td>\n",
              "      <td>0</td>\n",
              "      <td>0</td>\n",
              "      <td>0</td>\n",
              "      <td>1</td>\n",
              "      <td>0</td>\n",
              "      <td>0</td>\n",
              "    </tr>\n",
              "  </tbody>\n",
              "</table>\n",
              "<p>5 rows × 113 columns</p>\n",
              "</div>"
            ],
            "text/plain": [
              "    toCoupon_GEQ5min  toCoupon_GEQ15min  ...  Restaurant20To50_never  Y\n",
              "22                 1                  0  ...                       0  1\n",
              "23                 1                  0  ...                       0  0\n",
              "24                 1                  0  ...                       0  1\n",
              "25                 1                  1  ...                       0  0\n",
              "26                 1                  0  ...                       0  0\n",
              "\n",
              "[5 rows x 113 columns]"
            ]
          },
          "metadata": {},
          "execution_count": 28
        }
      ]
    },
    {
      "cell_type": "code",
      "metadata": {
        "id": "mrkG1T3LYWuV",
        "colab": {
          "base_uri": "https://localhost:8080/"
        },
        "outputId": "ac624bb6-71d7-4a23-a0e1-95d66d33c0da"
      },
      "source": [
        "data.columns"
      ],
      "execution_count": null,
      "outputs": [
        {
          "output_type": "execute_result",
          "data": {
            "text/plain": [
              "Index(['toCoupon_GEQ5min', 'toCoupon_GEQ15min', 'toCoupon_GEQ25min',\n",
              "       'direction_same', 'direction_opp', 'destination_Home',\n",
              "       'destination_No Urgent Place', 'destination_Work', 'passenger_Alone',\n",
              "       'passenger_Friend(s)',\n",
              "       ...\n",
              "       'RestaurantLessThan20_4~8', 'RestaurantLessThan20_gt8',\n",
              "       'RestaurantLessThan20_less1', 'RestaurantLessThan20_never',\n",
              "       'Restaurant20To50_1~3', 'Restaurant20To50_4~8', 'Restaurant20To50_gt8',\n",
              "       'Restaurant20To50_less1', 'Restaurant20To50_never', 'Y'],\n",
              "      dtype='object', length=113)"
            ]
          },
          "metadata": {},
          "execution_count": 29
        }
      ]
    },
    {
      "cell_type": "code",
      "metadata": {
        "id": "bLfk-ys8YeaN",
        "colab": {
          "base_uri": "https://localhost:8080/",
          "height": 287
        },
        "outputId": "9ee0813f-3b2d-4f04-e7a8-ba1253a9fec3"
      },
      "source": [
        "from mlxtend.preprocessing import minmax_scaling\n",
        "data = minmax_scaling(data,columns = data.columns)\n",
        "data.head()"
      ],
      "execution_count": null,
      "outputs": [
        {
          "output_type": "execute_result",
          "data": {
            "text/html": [
              "<div>\n",
              "<style scoped>\n",
              "    .dataframe tbody tr th:only-of-type {\n",
              "        vertical-align: middle;\n",
              "    }\n",
              "\n",
              "    .dataframe tbody tr th {\n",
              "        vertical-align: top;\n",
              "    }\n",
              "\n",
              "    .dataframe thead th {\n",
              "        text-align: right;\n",
              "    }\n",
              "</style>\n",
              "<table border=\"1\" class=\"dataframe\">\n",
              "  <thead>\n",
              "    <tr style=\"text-align: right;\">\n",
              "      <th></th>\n",
              "      <th>toCoupon_GEQ5min</th>\n",
              "      <th>toCoupon_GEQ15min</th>\n",
              "      <th>toCoupon_GEQ25min</th>\n",
              "      <th>direction_same</th>\n",
              "      <th>direction_opp</th>\n",
              "      <th>destination_Home</th>\n",
              "      <th>destination_No Urgent Place</th>\n",
              "      <th>destination_Work</th>\n",
              "      <th>passenger_Alone</th>\n",
              "      <th>passenger_Friend(s)</th>\n",
              "      <th>passenger_Kid(s)</th>\n",
              "      <th>passenger_Partner</th>\n",
              "      <th>weather_Rainy</th>\n",
              "      <th>weather_Snowy</th>\n",
              "      <th>weather_Sunny</th>\n",
              "      <th>temperature_30</th>\n",
              "      <th>temperature_55</th>\n",
              "      <th>temperature_80</th>\n",
              "      <th>time_10AM</th>\n",
              "      <th>time_10PM</th>\n",
              "      <th>time_2PM</th>\n",
              "      <th>time_6PM</th>\n",
              "      <th>time_7AM</th>\n",
              "      <th>coupon_Bar</th>\n",
              "      <th>coupon_Carry out &amp; Take away</th>\n",
              "      <th>coupon_Coffee House</th>\n",
              "      <th>coupon_Restaurant(20-50)</th>\n",
              "      <th>coupon_Restaurant(&lt;20)</th>\n",
              "      <th>expiration_1d</th>\n",
              "      <th>expiration_2h</th>\n",
              "      <th>gender_Female</th>\n",
              "      <th>gender_Male</th>\n",
              "      <th>age_21</th>\n",
              "      <th>age_26</th>\n",
              "      <th>age_31</th>\n",
              "      <th>age_36</th>\n",
              "      <th>age_41</th>\n",
              "      <th>age_46</th>\n",
              "      <th>age_50plus</th>\n",
              "      <th>age_below21</th>\n",
              "      <th>...</th>\n",
              "      <th>occupation_Retired</th>\n",
              "      <th>occupation_Sales &amp; Related</th>\n",
              "      <th>occupation_Student</th>\n",
              "      <th>occupation_Transportation &amp; Material Moving</th>\n",
              "      <th>occupation_Unemployed</th>\n",
              "      <th>income_$100000 or More</th>\n",
              "      <th>income_$12500 - $24999</th>\n",
              "      <th>income_$25000 - $37499</th>\n",
              "      <th>income_$37500 - $49999</th>\n",
              "      <th>income_$50000 - $62499</th>\n",
              "      <th>income_$62500 - $74999</th>\n",
              "      <th>income_$75000 - $87499</th>\n",
              "      <th>income_$87500 - $99999</th>\n",
              "      <th>income_Less than $12500</th>\n",
              "      <th>Bar_1~3</th>\n",
              "      <th>Bar_4~8</th>\n",
              "      <th>Bar_gt8</th>\n",
              "      <th>Bar_less1</th>\n",
              "      <th>Bar_never</th>\n",
              "      <th>CoffeeHouse_1~3</th>\n",
              "      <th>CoffeeHouse_4~8</th>\n",
              "      <th>CoffeeHouse_gt8</th>\n",
              "      <th>CoffeeHouse_less1</th>\n",
              "      <th>CoffeeHouse_never</th>\n",
              "      <th>CarryAway_1~3</th>\n",
              "      <th>CarryAway_4~8</th>\n",
              "      <th>CarryAway_gt8</th>\n",
              "      <th>CarryAway_less1</th>\n",
              "      <th>CarryAway_never</th>\n",
              "      <th>RestaurantLessThan20_1~3</th>\n",
              "      <th>RestaurantLessThan20_4~8</th>\n",
              "      <th>RestaurantLessThan20_gt8</th>\n",
              "      <th>RestaurantLessThan20_less1</th>\n",
              "      <th>RestaurantLessThan20_never</th>\n",
              "      <th>Restaurant20To50_1~3</th>\n",
              "      <th>Restaurant20To50_4~8</th>\n",
              "      <th>Restaurant20To50_gt8</th>\n",
              "      <th>Restaurant20To50_less1</th>\n",
              "      <th>Restaurant20To50_never</th>\n",
              "      <th>Y</th>\n",
              "    </tr>\n",
              "  </thead>\n",
              "  <tbody>\n",
              "    <tr>\n",
              "      <th>22</th>\n",
              "      <td>NaN</td>\n",
              "      <td>0.0</td>\n",
              "      <td>0.0</td>\n",
              "      <td>0.0</td>\n",
              "      <td>1.0</td>\n",
              "      <td>0.0</td>\n",
              "      <td>1.0</td>\n",
              "      <td>0.0</td>\n",
              "      <td>1.0</td>\n",
              "      <td>0.0</td>\n",
              "      <td>0.0</td>\n",
              "      <td>0.0</td>\n",
              "      <td>0.0</td>\n",
              "      <td>0.0</td>\n",
              "      <td>1.0</td>\n",
              "      <td>0.0</td>\n",
              "      <td>1.0</td>\n",
              "      <td>0.0</td>\n",
              "      <td>0.0</td>\n",
              "      <td>0.0</td>\n",
              "      <td>1.0</td>\n",
              "      <td>0.0</td>\n",
              "      <td>0.0</td>\n",
              "      <td>0.0</td>\n",
              "      <td>0.0</td>\n",
              "      <td>0.0</td>\n",
              "      <td>0.0</td>\n",
              "      <td>1.0</td>\n",
              "      <td>1.0</td>\n",
              "      <td>0.0</td>\n",
              "      <td>0.0</td>\n",
              "      <td>1.0</td>\n",
              "      <td>1.0</td>\n",
              "      <td>0.0</td>\n",
              "      <td>0.0</td>\n",
              "      <td>0.0</td>\n",
              "      <td>0.0</td>\n",
              "      <td>0.0</td>\n",
              "      <td>0.0</td>\n",
              "      <td>0.0</td>\n",
              "      <td>...</td>\n",
              "      <td>0.0</td>\n",
              "      <td>0.0</td>\n",
              "      <td>0.0</td>\n",
              "      <td>0.0</td>\n",
              "      <td>0.0</td>\n",
              "      <td>0.0</td>\n",
              "      <td>0.0</td>\n",
              "      <td>0.0</td>\n",
              "      <td>0.0</td>\n",
              "      <td>0.0</td>\n",
              "      <td>1.0</td>\n",
              "      <td>0.0</td>\n",
              "      <td>0.0</td>\n",
              "      <td>0.0</td>\n",
              "      <td>0.0</td>\n",
              "      <td>0.0</td>\n",
              "      <td>0.0</td>\n",
              "      <td>0.0</td>\n",
              "      <td>1.0</td>\n",
              "      <td>0.0</td>\n",
              "      <td>0.0</td>\n",
              "      <td>0.0</td>\n",
              "      <td>1.0</td>\n",
              "      <td>0.0</td>\n",
              "      <td>0.0</td>\n",
              "      <td>1.0</td>\n",
              "      <td>0.0</td>\n",
              "      <td>0.0</td>\n",
              "      <td>0.0</td>\n",
              "      <td>0.0</td>\n",
              "      <td>1.0</td>\n",
              "      <td>0.0</td>\n",
              "      <td>0.0</td>\n",
              "      <td>0.0</td>\n",
              "      <td>0.0</td>\n",
              "      <td>0.0</td>\n",
              "      <td>0.0</td>\n",
              "      <td>1.0</td>\n",
              "      <td>0.0</td>\n",
              "      <td>1.0</td>\n",
              "    </tr>\n",
              "    <tr>\n",
              "      <th>23</th>\n",
              "      <td>NaN</td>\n",
              "      <td>0.0</td>\n",
              "      <td>0.0</td>\n",
              "      <td>0.0</td>\n",
              "      <td>1.0</td>\n",
              "      <td>0.0</td>\n",
              "      <td>1.0</td>\n",
              "      <td>0.0</td>\n",
              "      <td>0.0</td>\n",
              "      <td>1.0</td>\n",
              "      <td>0.0</td>\n",
              "      <td>0.0</td>\n",
              "      <td>0.0</td>\n",
              "      <td>0.0</td>\n",
              "      <td>1.0</td>\n",
              "      <td>0.0</td>\n",
              "      <td>0.0</td>\n",
              "      <td>1.0</td>\n",
              "      <td>1.0</td>\n",
              "      <td>0.0</td>\n",
              "      <td>0.0</td>\n",
              "      <td>0.0</td>\n",
              "      <td>0.0</td>\n",
              "      <td>0.0</td>\n",
              "      <td>0.0</td>\n",
              "      <td>1.0</td>\n",
              "      <td>0.0</td>\n",
              "      <td>0.0</td>\n",
              "      <td>0.0</td>\n",
              "      <td>1.0</td>\n",
              "      <td>0.0</td>\n",
              "      <td>1.0</td>\n",
              "      <td>1.0</td>\n",
              "      <td>0.0</td>\n",
              "      <td>0.0</td>\n",
              "      <td>0.0</td>\n",
              "      <td>0.0</td>\n",
              "      <td>0.0</td>\n",
              "      <td>0.0</td>\n",
              "      <td>0.0</td>\n",
              "      <td>...</td>\n",
              "      <td>0.0</td>\n",
              "      <td>0.0</td>\n",
              "      <td>0.0</td>\n",
              "      <td>0.0</td>\n",
              "      <td>0.0</td>\n",
              "      <td>0.0</td>\n",
              "      <td>0.0</td>\n",
              "      <td>0.0</td>\n",
              "      <td>0.0</td>\n",
              "      <td>0.0</td>\n",
              "      <td>1.0</td>\n",
              "      <td>0.0</td>\n",
              "      <td>0.0</td>\n",
              "      <td>0.0</td>\n",
              "      <td>0.0</td>\n",
              "      <td>0.0</td>\n",
              "      <td>0.0</td>\n",
              "      <td>0.0</td>\n",
              "      <td>1.0</td>\n",
              "      <td>0.0</td>\n",
              "      <td>0.0</td>\n",
              "      <td>0.0</td>\n",
              "      <td>1.0</td>\n",
              "      <td>0.0</td>\n",
              "      <td>0.0</td>\n",
              "      <td>1.0</td>\n",
              "      <td>0.0</td>\n",
              "      <td>0.0</td>\n",
              "      <td>0.0</td>\n",
              "      <td>0.0</td>\n",
              "      <td>1.0</td>\n",
              "      <td>0.0</td>\n",
              "      <td>0.0</td>\n",
              "      <td>0.0</td>\n",
              "      <td>0.0</td>\n",
              "      <td>0.0</td>\n",
              "      <td>0.0</td>\n",
              "      <td>1.0</td>\n",
              "      <td>0.0</td>\n",
              "      <td>0.0</td>\n",
              "    </tr>\n",
              "    <tr>\n",
              "      <th>24</th>\n",
              "      <td>NaN</td>\n",
              "      <td>0.0</td>\n",
              "      <td>0.0</td>\n",
              "      <td>0.0</td>\n",
              "      <td>1.0</td>\n",
              "      <td>0.0</td>\n",
              "      <td>1.0</td>\n",
              "      <td>0.0</td>\n",
              "      <td>0.0</td>\n",
              "      <td>1.0</td>\n",
              "      <td>0.0</td>\n",
              "      <td>0.0</td>\n",
              "      <td>0.0</td>\n",
              "      <td>0.0</td>\n",
              "      <td>1.0</td>\n",
              "      <td>0.0</td>\n",
              "      <td>0.0</td>\n",
              "      <td>1.0</td>\n",
              "      <td>1.0</td>\n",
              "      <td>0.0</td>\n",
              "      <td>0.0</td>\n",
              "      <td>0.0</td>\n",
              "      <td>0.0</td>\n",
              "      <td>1.0</td>\n",
              "      <td>0.0</td>\n",
              "      <td>0.0</td>\n",
              "      <td>0.0</td>\n",
              "      <td>0.0</td>\n",
              "      <td>1.0</td>\n",
              "      <td>0.0</td>\n",
              "      <td>0.0</td>\n",
              "      <td>1.0</td>\n",
              "      <td>1.0</td>\n",
              "      <td>0.0</td>\n",
              "      <td>0.0</td>\n",
              "      <td>0.0</td>\n",
              "      <td>0.0</td>\n",
              "      <td>0.0</td>\n",
              "      <td>0.0</td>\n",
              "      <td>0.0</td>\n",
              "      <td>...</td>\n",
              "      <td>0.0</td>\n",
              "      <td>0.0</td>\n",
              "      <td>0.0</td>\n",
              "      <td>0.0</td>\n",
              "      <td>0.0</td>\n",
              "      <td>0.0</td>\n",
              "      <td>0.0</td>\n",
              "      <td>0.0</td>\n",
              "      <td>0.0</td>\n",
              "      <td>0.0</td>\n",
              "      <td>1.0</td>\n",
              "      <td>0.0</td>\n",
              "      <td>0.0</td>\n",
              "      <td>0.0</td>\n",
              "      <td>0.0</td>\n",
              "      <td>0.0</td>\n",
              "      <td>0.0</td>\n",
              "      <td>0.0</td>\n",
              "      <td>1.0</td>\n",
              "      <td>0.0</td>\n",
              "      <td>0.0</td>\n",
              "      <td>0.0</td>\n",
              "      <td>1.0</td>\n",
              "      <td>0.0</td>\n",
              "      <td>0.0</td>\n",
              "      <td>1.0</td>\n",
              "      <td>0.0</td>\n",
              "      <td>0.0</td>\n",
              "      <td>0.0</td>\n",
              "      <td>0.0</td>\n",
              "      <td>1.0</td>\n",
              "      <td>0.0</td>\n",
              "      <td>0.0</td>\n",
              "      <td>0.0</td>\n",
              "      <td>0.0</td>\n",
              "      <td>0.0</td>\n",
              "      <td>0.0</td>\n",
              "      <td>1.0</td>\n",
              "      <td>0.0</td>\n",
              "      <td>1.0</td>\n",
              "    </tr>\n",
              "    <tr>\n",
              "      <th>25</th>\n",
              "      <td>NaN</td>\n",
              "      <td>1.0</td>\n",
              "      <td>0.0</td>\n",
              "      <td>0.0</td>\n",
              "      <td>1.0</td>\n",
              "      <td>0.0</td>\n",
              "      <td>1.0</td>\n",
              "      <td>0.0</td>\n",
              "      <td>0.0</td>\n",
              "      <td>1.0</td>\n",
              "      <td>0.0</td>\n",
              "      <td>0.0</td>\n",
              "      <td>0.0</td>\n",
              "      <td>0.0</td>\n",
              "      <td>1.0</td>\n",
              "      <td>0.0</td>\n",
              "      <td>0.0</td>\n",
              "      <td>1.0</td>\n",
              "      <td>1.0</td>\n",
              "      <td>0.0</td>\n",
              "      <td>0.0</td>\n",
              "      <td>0.0</td>\n",
              "      <td>0.0</td>\n",
              "      <td>0.0</td>\n",
              "      <td>1.0</td>\n",
              "      <td>0.0</td>\n",
              "      <td>0.0</td>\n",
              "      <td>0.0</td>\n",
              "      <td>0.0</td>\n",
              "      <td>1.0</td>\n",
              "      <td>0.0</td>\n",
              "      <td>1.0</td>\n",
              "      <td>1.0</td>\n",
              "      <td>0.0</td>\n",
              "      <td>0.0</td>\n",
              "      <td>0.0</td>\n",
              "      <td>0.0</td>\n",
              "      <td>0.0</td>\n",
              "      <td>0.0</td>\n",
              "      <td>0.0</td>\n",
              "      <td>...</td>\n",
              "      <td>0.0</td>\n",
              "      <td>0.0</td>\n",
              "      <td>0.0</td>\n",
              "      <td>0.0</td>\n",
              "      <td>0.0</td>\n",
              "      <td>0.0</td>\n",
              "      <td>0.0</td>\n",
              "      <td>0.0</td>\n",
              "      <td>0.0</td>\n",
              "      <td>0.0</td>\n",
              "      <td>1.0</td>\n",
              "      <td>0.0</td>\n",
              "      <td>0.0</td>\n",
              "      <td>0.0</td>\n",
              "      <td>0.0</td>\n",
              "      <td>0.0</td>\n",
              "      <td>0.0</td>\n",
              "      <td>0.0</td>\n",
              "      <td>1.0</td>\n",
              "      <td>0.0</td>\n",
              "      <td>0.0</td>\n",
              "      <td>0.0</td>\n",
              "      <td>1.0</td>\n",
              "      <td>0.0</td>\n",
              "      <td>0.0</td>\n",
              "      <td>1.0</td>\n",
              "      <td>0.0</td>\n",
              "      <td>0.0</td>\n",
              "      <td>0.0</td>\n",
              "      <td>0.0</td>\n",
              "      <td>1.0</td>\n",
              "      <td>0.0</td>\n",
              "      <td>0.0</td>\n",
              "      <td>0.0</td>\n",
              "      <td>0.0</td>\n",
              "      <td>0.0</td>\n",
              "      <td>0.0</td>\n",
              "      <td>1.0</td>\n",
              "      <td>0.0</td>\n",
              "      <td>0.0</td>\n",
              "    </tr>\n",
              "    <tr>\n",
              "      <th>26</th>\n",
              "      <td>NaN</td>\n",
              "      <td>0.0</td>\n",
              "      <td>0.0</td>\n",
              "      <td>0.0</td>\n",
              "      <td>1.0</td>\n",
              "      <td>0.0</td>\n",
              "      <td>1.0</td>\n",
              "      <td>0.0</td>\n",
              "      <td>0.0</td>\n",
              "      <td>1.0</td>\n",
              "      <td>0.0</td>\n",
              "      <td>0.0</td>\n",
              "      <td>0.0</td>\n",
              "      <td>0.0</td>\n",
              "      <td>1.0</td>\n",
              "      <td>0.0</td>\n",
              "      <td>0.0</td>\n",
              "      <td>1.0</td>\n",
              "      <td>0.0</td>\n",
              "      <td>0.0</td>\n",
              "      <td>1.0</td>\n",
              "      <td>0.0</td>\n",
              "      <td>0.0</td>\n",
              "      <td>0.0</td>\n",
              "      <td>0.0</td>\n",
              "      <td>1.0</td>\n",
              "      <td>0.0</td>\n",
              "      <td>0.0</td>\n",
              "      <td>1.0</td>\n",
              "      <td>0.0</td>\n",
              "      <td>0.0</td>\n",
              "      <td>1.0</td>\n",
              "      <td>1.0</td>\n",
              "      <td>0.0</td>\n",
              "      <td>0.0</td>\n",
              "      <td>0.0</td>\n",
              "      <td>0.0</td>\n",
              "      <td>0.0</td>\n",
              "      <td>0.0</td>\n",
              "      <td>0.0</td>\n",
              "      <td>...</td>\n",
              "      <td>0.0</td>\n",
              "      <td>0.0</td>\n",
              "      <td>0.0</td>\n",
              "      <td>0.0</td>\n",
              "      <td>0.0</td>\n",
              "      <td>0.0</td>\n",
              "      <td>0.0</td>\n",
              "      <td>0.0</td>\n",
              "      <td>0.0</td>\n",
              "      <td>0.0</td>\n",
              "      <td>1.0</td>\n",
              "      <td>0.0</td>\n",
              "      <td>0.0</td>\n",
              "      <td>0.0</td>\n",
              "      <td>0.0</td>\n",
              "      <td>0.0</td>\n",
              "      <td>0.0</td>\n",
              "      <td>0.0</td>\n",
              "      <td>1.0</td>\n",
              "      <td>0.0</td>\n",
              "      <td>0.0</td>\n",
              "      <td>0.0</td>\n",
              "      <td>1.0</td>\n",
              "      <td>0.0</td>\n",
              "      <td>0.0</td>\n",
              "      <td>1.0</td>\n",
              "      <td>0.0</td>\n",
              "      <td>0.0</td>\n",
              "      <td>0.0</td>\n",
              "      <td>0.0</td>\n",
              "      <td>1.0</td>\n",
              "      <td>0.0</td>\n",
              "      <td>0.0</td>\n",
              "      <td>0.0</td>\n",
              "      <td>0.0</td>\n",
              "      <td>0.0</td>\n",
              "      <td>0.0</td>\n",
              "      <td>1.0</td>\n",
              "      <td>0.0</td>\n",
              "      <td>0.0</td>\n",
              "    </tr>\n",
              "  </tbody>\n",
              "</table>\n",
              "<p>5 rows × 113 columns</p>\n",
              "</div>"
            ],
            "text/plain": [
              "    toCoupon_GEQ5min  toCoupon_GEQ15min  ...  Restaurant20To50_never    Y\n",
              "22               NaN                0.0  ...                     0.0  1.0\n",
              "23               NaN                0.0  ...                     0.0  0.0\n",
              "24               NaN                0.0  ...                     0.0  1.0\n",
              "25               NaN                1.0  ...                     0.0  0.0\n",
              "26               NaN                0.0  ...                     0.0  0.0\n",
              "\n",
              "[5 rows x 113 columns]"
            ]
          },
          "metadata": {},
          "execution_count": 30
        }
      ]
    },
    {
      "cell_type": "code",
      "metadata": {
        "id": "ZbTKf2nJZYyo",
        "colab": {
          "base_uri": "https://localhost:8080/",
          "height": 287
        },
        "outputId": "a6f373e5-ab8e-4786-c85a-1337dcbca802"
      },
      "source": [
        "data = data.dropna(axis=1)\n",
        "data.head()"
      ],
      "execution_count": null,
      "outputs": [
        {
          "output_type": "execute_result",
          "data": {
            "text/html": [
              "<div>\n",
              "<style scoped>\n",
              "    .dataframe tbody tr th:only-of-type {\n",
              "        vertical-align: middle;\n",
              "    }\n",
              "\n",
              "    .dataframe tbody tr th {\n",
              "        vertical-align: top;\n",
              "    }\n",
              "\n",
              "    .dataframe thead th {\n",
              "        text-align: right;\n",
              "    }\n",
              "</style>\n",
              "<table border=\"1\" class=\"dataframe\">\n",
              "  <thead>\n",
              "    <tr style=\"text-align: right;\">\n",
              "      <th></th>\n",
              "      <th>toCoupon_GEQ15min</th>\n",
              "      <th>toCoupon_GEQ25min</th>\n",
              "      <th>direction_same</th>\n",
              "      <th>direction_opp</th>\n",
              "      <th>destination_Home</th>\n",
              "      <th>destination_No Urgent Place</th>\n",
              "      <th>destination_Work</th>\n",
              "      <th>passenger_Alone</th>\n",
              "      <th>passenger_Friend(s)</th>\n",
              "      <th>passenger_Kid(s)</th>\n",
              "      <th>passenger_Partner</th>\n",
              "      <th>weather_Rainy</th>\n",
              "      <th>weather_Snowy</th>\n",
              "      <th>weather_Sunny</th>\n",
              "      <th>temperature_30</th>\n",
              "      <th>temperature_55</th>\n",
              "      <th>temperature_80</th>\n",
              "      <th>time_10AM</th>\n",
              "      <th>time_10PM</th>\n",
              "      <th>time_2PM</th>\n",
              "      <th>time_6PM</th>\n",
              "      <th>time_7AM</th>\n",
              "      <th>coupon_Bar</th>\n",
              "      <th>coupon_Carry out &amp; Take away</th>\n",
              "      <th>coupon_Coffee House</th>\n",
              "      <th>coupon_Restaurant(20-50)</th>\n",
              "      <th>coupon_Restaurant(&lt;20)</th>\n",
              "      <th>expiration_1d</th>\n",
              "      <th>expiration_2h</th>\n",
              "      <th>gender_Female</th>\n",
              "      <th>gender_Male</th>\n",
              "      <th>age_21</th>\n",
              "      <th>age_26</th>\n",
              "      <th>age_31</th>\n",
              "      <th>age_36</th>\n",
              "      <th>age_41</th>\n",
              "      <th>age_46</th>\n",
              "      <th>age_50plus</th>\n",
              "      <th>age_below21</th>\n",
              "      <th>maritalStatus_Divorced</th>\n",
              "      <th>...</th>\n",
              "      <th>occupation_Retired</th>\n",
              "      <th>occupation_Sales &amp; Related</th>\n",
              "      <th>occupation_Student</th>\n",
              "      <th>occupation_Transportation &amp; Material Moving</th>\n",
              "      <th>occupation_Unemployed</th>\n",
              "      <th>income_$100000 or More</th>\n",
              "      <th>income_$12500 - $24999</th>\n",
              "      <th>income_$25000 - $37499</th>\n",
              "      <th>income_$37500 - $49999</th>\n",
              "      <th>income_$50000 - $62499</th>\n",
              "      <th>income_$62500 - $74999</th>\n",
              "      <th>income_$75000 - $87499</th>\n",
              "      <th>income_$87500 - $99999</th>\n",
              "      <th>income_Less than $12500</th>\n",
              "      <th>Bar_1~3</th>\n",
              "      <th>Bar_4~8</th>\n",
              "      <th>Bar_gt8</th>\n",
              "      <th>Bar_less1</th>\n",
              "      <th>Bar_never</th>\n",
              "      <th>CoffeeHouse_1~3</th>\n",
              "      <th>CoffeeHouse_4~8</th>\n",
              "      <th>CoffeeHouse_gt8</th>\n",
              "      <th>CoffeeHouse_less1</th>\n",
              "      <th>CoffeeHouse_never</th>\n",
              "      <th>CarryAway_1~3</th>\n",
              "      <th>CarryAway_4~8</th>\n",
              "      <th>CarryAway_gt8</th>\n",
              "      <th>CarryAway_less1</th>\n",
              "      <th>CarryAway_never</th>\n",
              "      <th>RestaurantLessThan20_1~3</th>\n",
              "      <th>RestaurantLessThan20_4~8</th>\n",
              "      <th>RestaurantLessThan20_gt8</th>\n",
              "      <th>RestaurantLessThan20_less1</th>\n",
              "      <th>RestaurantLessThan20_never</th>\n",
              "      <th>Restaurant20To50_1~3</th>\n",
              "      <th>Restaurant20To50_4~8</th>\n",
              "      <th>Restaurant20To50_gt8</th>\n",
              "      <th>Restaurant20To50_less1</th>\n",
              "      <th>Restaurant20To50_never</th>\n",
              "      <th>Y</th>\n",
              "    </tr>\n",
              "  </thead>\n",
              "  <tbody>\n",
              "    <tr>\n",
              "      <th>22</th>\n",
              "      <td>0.0</td>\n",
              "      <td>0.0</td>\n",
              "      <td>0.0</td>\n",
              "      <td>1.0</td>\n",
              "      <td>0.0</td>\n",
              "      <td>1.0</td>\n",
              "      <td>0.0</td>\n",
              "      <td>1.0</td>\n",
              "      <td>0.0</td>\n",
              "      <td>0.0</td>\n",
              "      <td>0.0</td>\n",
              "      <td>0.0</td>\n",
              "      <td>0.0</td>\n",
              "      <td>1.0</td>\n",
              "      <td>0.0</td>\n",
              "      <td>1.0</td>\n",
              "      <td>0.0</td>\n",
              "      <td>0.0</td>\n",
              "      <td>0.0</td>\n",
              "      <td>1.0</td>\n",
              "      <td>0.0</td>\n",
              "      <td>0.0</td>\n",
              "      <td>0.0</td>\n",
              "      <td>0.0</td>\n",
              "      <td>0.0</td>\n",
              "      <td>0.0</td>\n",
              "      <td>1.0</td>\n",
              "      <td>1.0</td>\n",
              "      <td>0.0</td>\n",
              "      <td>0.0</td>\n",
              "      <td>1.0</td>\n",
              "      <td>1.0</td>\n",
              "      <td>0.0</td>\n",
              "      <td>0.0</td>\n",
              "      <td>0.0</td>\n",
              "      <td>0.0</td>\n",
              "      <td>0.0</td>\n",
              "      <td>0.0</td>\n",
              "      <td>0.0</td>\n",
              "      <td>0.0</td>\n",
              "      <td>...</td>\n",
              "      <td>0.0</td>\n",
              "      <td>0.0</td>\n",
              "      <td>0.0</td>\n",
              "      <td>0.0</td>\n",
              "      <td>0.0</td>\n",
              "      <td>0.0</td>\n",
              "      <td>0.0</td>\n",
              "      <td>0.0</td>\n",
              "      <td>0.0</td>\n",
              "      <td>0.0</td>\n",
              "      <td>1.0</td>\n",
              "      <td>0.0</td>\n",
              "      <td>0.0</td>\n",
              "      <td>0.0</td>\n",
              "      <td>0.0</td>\n",
              "      <td>0.0</td>\n",
              "      <td>0.0</td>\n",
              "      <td>0.0</td>\n",
              "      <td>1.0</td>\n",
              "      <td>0.0</td>\n",
              "      <td>0.0</td>\n",
              "      <td>0.0</td>\n",
              "      <td>1.0</td>\n",
              "      <td>0.0</td>\n",
              "      <td>0.0</td>\n",
              "      <td>1.0</td>\n",
              "      <td>0.0</td>\n",
              "      <td>0.0</td>\n",
              "      <td>0.0</td>\n",
              "      <td>0.0</td>\n",
              "      <td>1.0</td>\n",
              "      <td>0.0</td>\n",
              "      <td>0.0</td>\n",
              "      <td>0.0</td>\n",
              "      <td>0.0</td>\n",
              "      <td>0.0</td>\n",
              "      <td>0.0</td>\n",
              "      <td>1.0</td>\n",
              "      <td>0.0</td>\n",
              "      <td>1.0</td>\n",
              "    </tr>\n",
              "    <tr>\n",
              "      <th>23</th>\n",
              "      <td>0.0</td>\n",
              "      <td>0.0</td>\n",
              "      <td>0.0</td>\n",
              "      <td>1.0</td>\n",
              "      <td>0.0</td>\n",
              "      <td>1.0</td>\n",
              "      <td>0.0</td>\n",
              "      <td>0.0</td>\n",
              "      <td>1.0</td>\n",
              "      <td>0.0</td>\n",
              "      <td>0.0</td>\n",
              "      <td>0.0</td>\n",
              "      <td>0.0</td>\n",
              "      <td>1.0</td>\n",
              "      <td>0.0</td>\n",
              "      <td>0.0</td>\n",
              "      <td>1.0</td>\n",
              "      <td>1.0</td>\n",
              "      <td>0.0</td>\n",
              "      <td>0.0</td>\n",
              "      <td>0.0</td>\n",
              "      <td>0.0</td>\n",
              "      <td>0.0</td>\n",
              "      <td>0.0</td>\n",
              "      <td>1.0</td>\n",
              "      <td>0.0</td>\n",
              "      <td>0.0</td>\n",
              "      <td>0.0</td>\n",
              "      <td>1.0</td>\n",
              "      <td>0.0</td>\n",
              "      <td>1.0</td>\n",
              "      <td>1.0</td>\n",
              "      <td>0.0</td>\n",
              "      <td>0.0</td>\n",
              "      <td>0.0</td>\n",
              "      <td>0.0</td>\n",
              "      <td>0.0</td>\n",
              "      <td>0.0</td>\n",
              "      <td>0.0</td>\n",
              "      <td>0.0</td>\n",
              "      <td>...</td>\n",
              "      <td>0.0</td>\n",
              "      <td>0.0</td>\n",
              "      <td>0.0</td>\n",
              "      <td>0.0</td>\n",
              "      <td>0.0</td>\n",
              "      <td>0.0</td>\n",
              "      <td>0.0</td>\n",
              "      <td>0.0</td>\n",
              "      <td>0.0</td>\n",
              "      <td>0.0</td>\n",
              "      <td>1.0</td>\n",
              "      <td>0.0</td>\n",
              "      <td>0.0</td>\n",
              "      <td>0.0</td>\n",
              "      <td>0.0</td>\n",
              "      <td>0.0</td>\n",
              "      <td>0.0</td>\n",
              "      <td>0.0</td>\n",
              "      <td>1.0</td>\n",
              "      <td>0.0</td>\n",
              "      <td>0.0</td>\n",
              "      <td>0.0</td>\n",
              "      <td>1.0</td>\n",
              "      <td>0.0</td>\n",
              "      <td>0.0</td>\n",
              "      <td>1.0</td>\n",
              "      <td>0.0</td>\n",
              "      <td>0.0</td>\n",
              "      <td>0.0</td>\n",
              "      <td>0.0</td>\n",
              "      <td>1.0</td>\n",
              "      <td>0.0</td>\n",
              "      <td>0.0</td>\n",
              "      <td>0.0</td>\n",
              "      <td>0.0</td>\n",
              "      <td>0.0</td>\n",
              "      <td>0.0</td>\n",
              "      <td>1.0</td>\n",
              "      <td>0.0</td>\n",
              "      <td>0.0</td>\n",
              "    </tr>\n",
              "    <tr>\n",
              "      <th>24</th>\n",
              "      <td>0.0</td>\n",
              "      <td>0.0</td>\n",
              "      <td>0.0</td>\n",
              "      <td>1.0</td>\n",
              "      <td>0.0</td>\n",
              "      <td>1.0</td>\n",
              "      <td>0.0</td>\n",
              "      <td>0.0</td>\n",
              "      <td>1.0</td>\n",
              "      <td>0.0</td>\n",
              "      <td>0.0</td>\n",
              "      <td>0.0</td>\n",
              "      <td>0.0</td>\n",
              "      <td>1.0</td>\n",
              "      <td>0.0</td>\n",
              "      <td>0.0</td>\n",
              "      <td>1.0</td>\n",
              "      <td>1.0</td>\n",
              "      <td>0.0</td>\n",
              "      <td>0.0</td>\n",
              "      <td>0.0</td>\n",
              "      <td>0.0</td>\n",
              "      <td>1.0</td>\n",
              "      <td>0.0</td>\n",
              "      <td>0.0</td>\n",
              "      <td>0.0</td>\n",
              "      <td>0.0</td>\n",
              "      <td>1.0</td>\n",
              "      <td>0.0</td>\n",
              "      <td>0.0</td>\n",
              "      <td>1.0</td>\n",
              "      <td>1.0</td>\n",
              "      <td>0.0</td>\n",
              "      <td>0.0</td>\n",
              "      <td>0.0</td>\n",
              "      <td>0.0</td>\n",
              "      <td>0.0</td>\n",
              "      <td>0.0</td>\n",
              "      <td>0.0</td>\n",
              "      <td>0.0</td>\n",
              "      <td>...</td>\n",
              "      <td>0.0</td>\n",
              "      <td>0.0</td>\n",
              "      <td>0.0</td>\n",
              "      <td>0.0</td>\n",
              "      <td>0.0</td>\n",
              "      <td>0.0</td>\n",
              "      <td>0.0</td>\n",
              "      <td>0.0</td>\n",
              "      <td>0.0</td>\n",
              "      <td>0.0</td>\n",
              "      <td>1.0</td>\n",
              "      <td>0.0</td>\n",
              "      <td>0.0</td>\n",
              "      <td>0.0</td>\n",
              "      <td>0.0</td>\n",
              "      <td>0.0</td>\n",
              "      <td>0.0</td>\n",
              "      <td>0.0</td>\n",
              "      <td>1.0</td>\n",
              "      <td>0.0</td>\n",
              "      <td>0.0</td>\n",
              "      <td>0.0</td>\n",
              "      <td>1.0</td>\n",
              "      <td>0.0</td>\n",
              "      <td>0.0</td>\n",
              "      <td>1.0</td>\n",
              "      <td>0.0</td>\n",
              "      <td>0.0</td>\n",
              "      <td>0.0</td>\n",
              "      <td>0.0</td>\n",
              "      <td>1.0</td>\n",
              "      <td>0.0</td>\n",
              "      <td>0.0</td>\n",
              "      <td>0.0</td>\n",
              "      <td>0.0</td>\n",
              "      <td>0.0</td>\n",
              "      <td>0.0</td>\n",
              "      <td>1.0</td>\n",
              "      <td>0.0</td>\n",
              "      <td>1.0</td>\n",
              "    </tr>\n",
              "    <tr>\n",
              "      <th>25</th>\n",
              "      <td>1.0</td>\n",
              "      <td>0.0</td>\n",
              "      <td>0.0</td>\n",
              "      <td>1.0</td>\n",
              "      <td>0.0</td>\n",
              "      <td>1.0</td>\n",
              "      <td>0.0</td>\n",
              "      <td>0.0</td>\n",
              "      <td>1.0</td>\n",
              "      <td>0.0</td>\n",
              "      <td>0.0</td>\n",
              "      <td>0.0</td>\n",
              "      <td>0.0</td>\n",
              "      <td>1.0</td>\n",
              "      <td>0.0</td>\n",
              "      <td>0.0</td>\n",
              "      <td>1.0</td>\n",
              "      <td>1.0</td>\n",
              "      <td>0.0</td>\n",
              "      <td>0.0</td>\n",
              "      <td>0.0</td>\n",
              "      <td>0.0</td>\n",
              "      <td>0.0</td>\n",
              "      <td>1.0</td>\n",
              "      <td>0.0</td>\n",
              "      <td>0.0</td>\n",
              "      <td>0.0</td>\n",
              "      <td>0.0</td>\n",
              "      <td>1.0</td>\n",
              "      <td>0.0</td>\n",
              "      <td>1.0</td>\n",
              "      <td>1.0</td>\n",
              "      <td>0.0</td>\n",
              "      <td>0.0</td>\n",
              "      <td>0.0</td>\n",
              "      <td>0.0</td>\n",
              "      <td>0.0</td>\n",
              "      <td>0.0</td>\n",
              "      <td>0.0</td>\n",
              "      <td>0.0</td>\n",
              "      <td>...</td>\n",
              "      <td>0.0</td>\n",
              "      <td>0.0</td>\n",
              "      <td>0.0</td>\n",
              "      <td>0.0</td>\n",
              "      <td>0.0</td>\n",
              "      <td>0.0</td>\n",
              "      <td>0.0</td>\n",
              "      <td>0.0</td>\n",
              "      <td>0.0</td>\n",
              "      <td>0.0</td>\n",
              "      <td>1.0</td>\n",
              "      <td>0.0</td>\n",
              "      <td>0.0</td>\n",
              "      <td>0.0</td>\n",
              "      <td>0.0</td>\n",
              "      <td>0.0</td>\n",
              "      <td>0.0</td>\n",
              "      <td>0.0</td>\n",
              "      <td>1.0</td>\n",
              "      <td>0.0</td>\n",
              "      <td>0.0</td>\n",
              "      <td>0.0</td>\n",
              "      <td>1.0</td>\n",
              "      <td>0.0</td>\n",
              "      <td>0.0</td>\n",
              "      <td>1.0</td>\n",
              "      <td>0.0</td>\n",
              "      <td>0.0</td>\n",
              "      <td>0.0</td>\n",
              "      <td>0.0</td>\n",
              "      <td>1.0</td>\n",
              "      <td>0.0</td>\n",
              "      <td>0.0</td>\n",
              "      <td>0.0</td>\n",
              "      <td>0.0</td>\n",
              "      <td>0.0</td>\n",
              "      <td>0.0</td>\n",
              "      <td>1.0</td>\n",
              "      <td>0.0</td>\n",
              "      <td>0.0</td>\n",
              "    </tr>\n",
              "    <tr>\n",
              "      <th>26</th>\n",
              "      <td>0.0</td>\n",
              "      <td>0.0</td>\n",
              "      <td>0.0</td>\n",
              "      <td>1.0</td>\n",
              "      <td>0.0</td>\n",
              "      <td>1.0</td>\n",
              "      <td>0.0</td>\n",
              "      <td>0.0</td>\n",
              "      <td>1.0</td>\n",
              "      <td>0.0</td>\n",
              "      <td>0.0</td>\n",
              "      <td>0.0</td>\n",
              "      <td>0.0</td>\n",
              "      <td>1.0</td>\n",
              "      <td>0.0</td>\n",
              "      <td>0.0</td>\n",
              "      <td>1.0</td>\n",
              "      <td>0.0</td>\n",
              "      <td>0.0</td>\n",
              "      <td>1.0</td>\n",
              "      <td>0.0</td>\n",
              "      <td>0.0</td>\n",
              "      <td>0.0</td>\n",
              "      <td>0.0</td>\n",
              "      <td>1.0</td>\n",
              "      <td>0.0</td>\n",
              "      <td>0.0</td>\n",
              "      <td>1.0</td>\n",
              "      <td>0.0</td>\n",
              "      <td>0.0</td>\n",
              "      <td>1.0</td>\n",
              "      <td>1.0</td>\n",
              "      <td>0.0</td>\n",
              "      <td>0.0</td>\n",
              "      <td>0.0</td>\n",
              "      <td>0.0</td>\n",
              "      <td>0.0</td>\n",
              "      <td>0.0</td>\n",
              "      <td>0.0</td>\n",
              "      <td>0.0</td>\n",
              "      <td>...</td>\n",
              "      <td>0.0</td>\n",
              "      <td>0.0</td>\n",
              "      <td>0.0</td>\n",
              "      <td>0.0</td>\n",
              "      <td>0.0</td>\n",
              "      <td>0.0</td>\n",
              "      <td>0.0</td>\n",
              "      <td>0.0</td>\n",
              "      <td>0.0</td>\n",
              "      <td>0.0</td>\n",
              "      <td>1.0</td>\n",
              "      <td>0.0</td>\n",
              "      <td>0.0</td>\n",
              "      <td>0.0</td>\n",
              "      <td>0.0</td>\n",
              "      <td>0.0</td>\n",
              "      <td>0.0</td>\n",
              "      <td>0.0</td>\n",
              "      <td>1.0</td>\n",
              "      <td>0.0</td>\n",
              "      <td>0.0</td>\n",
              "      <td>0.0</td>\n",
              "      <td>1.0</td>\n",
              "      <td>0.0</td>\n",
              "      <td>0.0</td>\n",
              "      <td>1.0</td>\n",
              "      <td>0.0</td>\n",
              "      <td>0.0</td>\n",
              "      <td>0.0</td>\n",
              "      <td>0.0</td>\n",
              "      <td>1.0</td>\n",
              "      <td>0.0</td>\n",
              "      <td>0.0</td>\n",
              "      <td>0.0</td>\n",
              "      <td>0.0</td>\n",
              "      <td>0.0</td>\n",
              "      <td>0.0</td>\n",
              "      <td>1.0</td>\n",
              "      <td>0.0</td>\n",
              "      <td>0.0</td>\n",
              "    </tr>\n",
              "  </tbody>\n",
              "</table>\n",
              "<p>5 rows × 112 columns</p>\n",
              "</div>"
            ],
            "text/plain": [
              "    toCoupon_GEQ15min  toCoupon_GEQ25min  ...  Restaurant20To50_never    Y\n",
              "22                0.0                0.0  ...                     0.0  1.0\n",
              "23                0.0                0.0  ...                     0.0  0.0\n",
              "24                0.0                0.0  ...                     0.0  1.0\n",
              "25                1.0                0.0  ...                     0.0  0.0\n",
              "26                0.0                0.0  ...                     0.0  0.0\n",
              "\n",
              "[5 rows x 112 columns]"
            ]
          },
          "metadata": {},
          "execution_count": 31
        }
      ]
    },
    {
      "cell_type": "code",
      "metadata": {
        "id": "Hoi1qEtrYwZh"
      },
      "source": [
        "array = data.values\n",
        "\n",
        "# Features: first 20 columns\n",
        "X = array[:,0:-1]\n",
        "\n",
        "# Target variable: 'response_binary'\n",
        "Y = array[:,-1]"
      ],
      "execution_count": null,
      "outputs": []
    },
    {
      "cell_type": "code",
      "metadata": {
        "id": "N7K8qephY1IR"
      },
      "source": [
        "from sklearn.model_selection import train_test_split\n",
        "from sklearn.metrics import accuracy_score"
      ],
      "execution_count": null,
      "outputs": []
    },
    {
      "cell_type": "code",
      "metadata": {
        "id": "6we3VNTdY20Z"
      },
      "source": [
        "# 20% of the data will be used for testing\n",
        "test_size= 0.20\n",
        "seed = 42\n",
        "X_train, X_test, Y_train, Y_test= train_test_split(X, Y, test_size=test_size, random_state=seed)"
      ],
      "execution_count": null,
      "outputs": []
    },
    {
      "cell_type": "code",
      "metadata": {
        "id": "mDTFxmaOY9DM",
        "colab": {
          "base_uri": "https://localhost:8080/"
        },
        "outputId": "74bfe215-c710-4575-e3e7-a49814cc9af9"
      },
      "source": [
        "from sklearn.naive_bayes import GaussianNB\n",
        "\n",
        "model = GaussianNB()\n",
        "model.fit(X_train,Y_train)"
      ],
      "execution_count": null,
      "outputs": [
        {
          "output_type": "execute_result",
          "data": {
            "text/plain": [
              "GaussianNB(priors=None, var_smoothing=1e-09)"
            ]
          },
          "metadata": {},
          "execution_count": 35
        }
      ]
    },
    {
      "cell_type": "code",
      "metadata": {
        "id": "-yamJbGQZmyt",
        "colab": {
          "base_uri": "https://localhost:8080/"
        },
        "outputId": "e6286776-59c2-46d5-d97c-94f142b214cc"
      },
      "source": [
        "#Predict\n",
        "predictions = model.predict(X_test)\n",
        "print(accuracy_score(Y_test, predictions))"
      ],
      "execution_count": null,
      "outputs": [
        {
          "output_type": "stream",
          "name": "stdout",
          "text": [
            "0.6382450331125827\n"
          ]
        }
      ]
    },
    {
      "cell_type": "code",
      "metadata": {
        "id": "yCovybh0ZqB6",
        "colab": {
          "base_uri": "https://localhost:8080/"
        },
        "outputId": "49acacb5-be59-4c17-87bb-7f87c54a2850"
      },
      "source": [
        "predictions"
      ],
      "execution_count": null,
      "outputs": [
        {
          "output_type": "execute_result",
          "data": {
            "text/plain": [
              "array([1., 0., 0., ..., 0., 1., 0.])"
            ]
          },
          "metadata": {},
          "execution_count": 37
        }
      ]
    },
    {
      "cell_type": "code",
      "metadata": {
        "id": "esmowsAaZtef",
        "colab": {
          "base_uri": "https://localhost:8080/",
          "height": 319
        },
        "outputId": "33c6f61d-5fc3-4eb5-e7c3-413dcc8d372c"
      },
      "source": [
        "# Confusion Matrix \n",
        "from sklearn.metrics import confusion_matrix\n",
        "import pylab as pl\n",
        "\n",
        "print(confusion_matrix(Y_test, predictions))\n",
        "\n",
        "cm = confusion_matrix(Y_test, predictions)\n",
        "pl.matshow(cm)\n",
        "pl.title('Confusion matrix of the classifier')\n",
        "#pl.colorbar()\n",
        "pl.show()"
      ],
      "execution_count": null,
      "outputs": [
        {
          "output_type": "stream",
          "name": "stdout",
          "text": [
            "[[717 304]\n",
            " [570 825]]\n"
          ]
        },
        {
          "output_type": "display_data",
          "data": {
            "image/png": "[encoded data removed]",
            "text/plain": [
              "<Figure size 288x288 with 1 Axes>"
            ]
          },
          "metadata": {
            "needs_background": "light"
          }
        }
      ]
    },
    {
      "cell_type": "code",
      "metadata": {
        "id": "WPmBx2FQZzk3",
        "colab": {
          "base_uri": "https://localhost:8080/"
        },
        "outputId": "3bc70fdf-a924-45c4-e0af-d2085052f9fc"
      },
      "source": [
        "from sklearn.metrics import classification_report\n",
        "print(classification_report(Y_test, predictions))"
      ],
      "execution_count": null,
      "outputs": [
        {
          "output_type": "stream",
          "name": "stdout",
          "text": [
            "              precision    recall  f1-score   support\n",
            "\n",
            "         0.0       0.56      0.70      0.62      1021\n",
            "         1.0       0.73      0.59      0.65      1395\n",
            "\n",
            "    accuracy                           0.64      2416\n",
            "   macro avg       0.64      0.65      0.64      2416\n",
            "weighted avg       0.66      0.64      0.64      2416\n",
            "\n"
          ]
        }
      ]
    },
    {
      "cell_type": "code",
      "metadata": {
        "id": "XBfBQco0Z3Qz",
        "colab": {
          "base_uri": "https://localhost:8080/"
        },
        "outputId": "4a59dfb2-b762-439b-e8ca-6ed148f385db"
      },
      "source": [
        "#Acccuracy - how many predictions are correct?\n",
        "accuracy = (717 + 825)/(717+825+304+570)\n",
        "accuracy"
      ],
      "execution_count": null,
      "outputs": [
        {
          "output_type": "execute_result",
          "data": {
            "text/plain": [
              "0.6382450331125827"
            ]
          },
          "metadata": {},
          "execution_count": 40
        }
      ]
    },
    {
      "cell_type": "code",
      "metadata": {
        "id": "Gl1u2NmXaYEm",
        "colab": {
          "base_uri": "https://localhost:8080/"
        },
        "outputId": "0e300084-9ad4-4614-c081-957f8b87aa64"
      },
      "source": [
        "#Precision  - how many predicted 1s are correct?\n",
        "precision = 825/(825 + 304)\n",
        "precision"
      ],
      "execution_count": null,
      "outputs": [
        {
          "output_type": "execute_result",
          "data": {
            "text/plain": [
              "0.7307351638618246"
            ]
          },
          "metadata": {},
          "execution_count": 41
        }
      ]
    },
    {
      "cell_type": "code",
      "metadata": {
        "id": "1Nb39qYxasTU",
        "colab": {
          "base_uri": "https://localhost:8080/"
        },
        "outputId": "614861e4-da16-43b6-bb62-254c98b3501a"
      },
      "source": [
        "#Recall - how many of the actual 1s did the classifier predict correctly?\n",
        "recall = 825/(825 + 570)\n",
        "recall"
      ],
      "execution_count": null,
      "outputs": [
        {
          "output_type": "execute_result",
          "data": {
            "text/plain": [
              "0.5913978494623656"
            ]
          },
          "metadata": {},
          "execution_count": 43
        }
      ]
    },
    {
      "cell_type": "markdown",
      "metadata": {
        "id": "JP_Iq0tma1Sc"
      },
      "source": [
        "**Starting Naive Bayes Classification Ends**"
      ]
    },
    {
      "cell_type": "markdown",
      "metadata": {
        "id": "PPvNDxk2uNnh"
      },
      "source": [
        "**Logistic Regression Start**"
      ]
    },
    {
      "cell_type": "code",
      "metadata": {
        "id": "PEIu1r4muUA7"
      },
      "source": [
        "# X_train, X_test, Y_train, Y_test\n",
        "from sklearn.linear_model import LogisticRegression"
      ],
      "execution_count": null,
      "outputs": []
    },
    {
      "cell_type": "code",
      "metadata": {
        "colab": {
          "base_uri": "https://localhost:8080/"
        },
        "id": "CgIqE41hvKuM",
        "outputId": "02dbf098-b2a9-4174-c81c-99ac07d7aefb"
      },
      "source": [
        "lr_model = LogisticRegression()\n",
        "lr_model.fit(X_train,Y_train)"
      ],
      "execution_count": null,
      "outputs": [
        {
          "output_type": "execute_result",
          "data": {
            "text/plain": [
              "LogisticRegression(C=1.0, class_weight=None, dual=False, fit_intercept=True,\n",
              "                   intercept_scaling=1, l1_ratio=None, max_iter=100,\n",
              "                   multi_class='auto', n_jobs=None, penalty='l2',\n",
              "                   random_state=None, solver='lbfgs', tol=0.0001, verbose=0,\n",
              "                   warm_start=False)"
            ]
          },
          "metadata": {},
          "execution_count": 47
        }
      ]
    },
    {
      "cell_type": "code",
      "metadata": {
        "colab": {
          "base_uri": "https://localhost:8080/"
        },
        "id": "-miaTxccvRYt",
        "outputId": "d81a521d-dcb3-40f3-d0a2-daabf3b8939e"
      },
      "source": [
        "from sklearn.metrics import accuracy_score\n",
        "\n",
        "predictions = lr_model.predict(X_test)\n",
        "print(accuracy_score(predictions, Y_test))"
      ],
      "execution_count": null,
      "outputs": [
        {
          "output_type": "stream",
          "name": "stdout",
          "text": [
            "0.6841887417218543\n"
          ]
        }
      ]
    },
    {
      "cell_type": "code",
      "metadata": {
        "colab": {
          "base_uri": "https://localhost:8080/"
        },
        "id": "zjqh9zsfvX8B",
        "outputId": "299857d4-f8df-4ef4-a5c2-e4ef5571ce88"
      },
      "source": [
        "from sklearn.metrics import confusion_matrix\n",
        "\n",
        "cm = confusion_matrix(Y_test, predictions)\n",
        "print(cm)"
      ],
      "execution_count": null,
      "outputs": [
        {
          "output_type": "stream",
          "name": "stdout",
          "text": [
            "[[ 602  419]\n",
            " [ 344 1051]]\n"
          ]
        }
      ]
    },
    {
      "cell_type": "code",
      "metadata": {
        "colab": {
          "base_uri": "https://localhost:8080/",
          "height": 282
        },
        "id": "kwdMQDFZveag",
        "outputId": "43a5ceb3-abed-4755-d5b8-368df7194a5c"
      },
      "source": [
        "# visualize confusion matrix with seaborn heatmap\n",
        "\n",
        "cm_matrix = pd.DataFrame(data=cm, columns=['Predicted -ve:0', 'Predicted +ve:1'], \n",
        "                                 index=['Actual -ve:0', 'Actual +ve:1'])\n",
        "\n",
        "sns.heatmap(cm_matrix, annot=True, fmt='d', cmap='YlGnBu')"
      ],
      "execution_count": null,
      "outputs": [
        {
          "output_type": "execute_result",
          "data": {
            "text/plain": [
              "<matplotlib.axes._subplots.AxesSubplot at 0x7fea46c214d0>"
            ]
          },
          "metadata": {},
          "execution_count": 52
        },
        {
          "output_type": "display_data",
          "data": {
            "image/png": "[encoded data removed]",
            "text/plain": [
              "<Figure size 432x288 with 2 Axes>"
            ]
          },
          "metadata": {
            "needs_background": "light"
          }
        }
      ]
    },
    {
      "cell_type": "code",
      "metadata": {
        "colab": {
          "base_uri": "https://localhost:8080/"
        },
        "id": "iOGqEhUlvjQa",
        "outputId": "9b367dae-7e9d-4db4-ae49-432ed02cb288"
      },
      "source": [
        "print(classification_report(Y_test,predictions))"
      ],
      "execution_count": null,
      "outputs": [
        {
          "output_type": "stream",
          "name": "stdout",
          "text": [
            "              precision    recall  f1-score   support\n",
            "\n",
            "         0.0       0.64      0.59      0.61      1021\n",
            "         1.0       0.71      0.75      0.73      1395\n",
            "\n",
            "    accuracy                           0.68      2416\n",
            "   macro avg       0.68      0.67      0.67      2416\n",
            "weighted avg       0.68      0.68      0.68      2416\n",
            "\n"
          ]
        }
      ]
    },
    {
      "cell_type": "code",
      "metadata": {
        "id": "QMNg-PVbvrtM"
      },
      "source": [
        "prediction_prob = lr_model.predict_proba(X_test)[:,1]\n",
        "\n",
        "prediction_prob[prediction_prob > 0.6] = 1\n",
        "prediction_prob[prediction_prob <= 0.6] = 0"
      ],
      "execution_count": null,
      "outputs": []
    },
    {
      "cell_type": "code",
      "metadata": {
        "colab": {
          "base_uri": "https://localhost:8080/"
        },
        "id": "LQeOdqHTvzaN",
        "outputId": "d5b13f11-40ee-41ae-e2b5-bd24215ad8f4"
      },
      "source": [
        "print(accuracy_score(Y_test,prediction_prob))"
      ],
      "execution_count": null,
      "outputs": [
        {
          "output_type": "stream",
          "name": "stdout",
          "text": [
            "0.6622516556291391\n"
          ]
        }
      ]
    },
    {
      "cell_type": "markdown",
      "metadata": {
        "id": "GudFwYjBwFWu"
      },
      "source": [
        "**Logistic Regression Ends**"
      ]
    },
    {
      "cell_type": "markdown",
      "metadata": {
        "id": "9JybooBD39Nt"
      },
      "source": [
        "**Random Forest Start**"
      ]
    },
    {
      "cell_type": "code",
      "metadata": {
        "id": "yl6H5e4I2YeR"
      },
      "source": [
        "X = data.drop(['Y'],axis =1)\n",
        "cols = X.columns"
      ],
      "execution_count": null,
      "outputs": []
    },
    {
      "cell_type": "code",
      "metadata": {
        "id": "QBcWD4na2KwU"
      },
      "source": [
        "from sklearn.preprocessing import RobustScaler\n",
        "\n",
        "scaler = RobustScaler()\n",
        "\n",
        "X_train = scaler.fit_transform(X_train)\n",
        "\n",
        "X_test = scaler.transform(X_test)\n",
        "\n",
        "X_train = pd.DataFrame(X_train, columns=[cols])\n",
        "X_test = pd.DataFrame(X_test, columns=[cols])"
      ],
      "execution_count": null,
      "outputs": []
    },
    {
      "cell_type": "code",
      "metadata": {
        "colab": {
          "base_uri": "https://localhost:8080/"
        },
        "id": "YitoYvrg21dp",
        "outputId": "834e0403-20be-44db-ac7b-e3e15cc6829a"
      },
      "source": [
        "# import Random Forest classifier\n",
        "from sklearn.ensemble import RandomForestClassifier\n",
        "\n",
        "# instantiate the classifier \n",
        "rfc = RandomForestClassifier(n_estimators = 10, random_state=0, oob_score=True)\n",
        "\n",
        "# fit the model\n",
        "rfc.fit(X_train, Y_train)\n",
        "\n",
        "# Predict the Test set results\n",
        "Y_pred = rfc.predict(X_test)\n",
        "\n",
        "\n",
        "# Check accuracy score \n",
        "from sklearn.metrics import accuracy_score\n",
        "print('Model accuracy score with 10 decision-trees : {0:0.4f}'. format(accuracy_score(Y_test, Y_pred)))"
      ],
      "execution_count": null,
      "outputs": [
        {
          "output_type": "stream",
          "name": "stdout",
          "text": [
            "Model accuracy score with 10 decision-trees : 0.7252\n"
          ]
        },
        {
          "output_type": "stream",
          "name": "stderr",
          "text": [
            "/usr/local/lib/python3.7/dist-packages/sklearn/ensemble/_forest.py:523: UserWarning: Some inputs do not have OOB scores. This probably means too few trees were used to compute any reliable oob estimates.\n",
            "  warn(\"Some inputs do not have OOB scores. \"\n",
            "/usr/local/lib/python3.7/dist-packages/sklearn/ensemble/_forest.py:528: RuntimeWarning: invalid value encountered in true_divide\n",
            "  predictions[k].sum(axis=1)[:, np.newaxis])\n"
          ]
        }
      ]
    },
    {
      "cell_type": "code",
      "metadata": {
        "colab": {
          "base_uri": "https://localhost:8080/"
        },
        "id": "kUAdCNfD3Eht",
        "outputId": "25882565-76fa-45bd-b4df-0893b05a994f"
      },
      "source": [
        "rfc"
      ],
      "execution_count": null,
      "outputs": [
        {
          "output_type": "execute_result",
          "data": {
            "text/plain": [
              "RandomForestClassifier(bootstrap=True, ccp_alpha=0.0, class_weight=None,\n",
              "                       criterion='gini', max_depth=None, max_features='auto',\n",
              "                       max_leaf_nodes=None, max_samples=None,\n",
              "                       min_impurity_decrease=0.0, min_impurity_split=None,\n",
              "                       min_samples_leaf=1, min_samples_split=2,\n",
              "                       min_weight_fraction_leaf=0.0, n_estimators=10,\n",
              "                       n_jobs=None, oob_score=True, random_state=0, verbose=0,\n",
              "                       warm_start=False)"
            ]
          },
          "metadata": {},
          "execution_count": 71
        }
      ]
    },
    {
      "cell_type": "code",
      "metadata": {
        "id": "oVRMXIgn3F9e"
      },
      "source": [
        ""
      ],
      "execution_count": null,
      "outputs": []
    },
    {
      "cell_type": "code",
      "metadata": {
        "colab": {
          "base_uri": "https://localhost:8080/"
        },
        "id": "pniefh443Ji6",
        "outputId": "8e220b96-dcae-4c79-8c43-2c68834e7f9e"
      },
      "source": [
        "# instantiate the classifier with n_estimators = 100\n",
        "rfc_100 = RandomForestClassifier(n_estimators=100, random_state=0)\n",
        "\n",
        "# fit the model to the training set\n",
        "rfc_100.fit(X_train, Y_train)\n",
        "\n",
        "# Predict on the test set results\n",
        "Y_pred_100 = rfc_100.predict(X_test)\n",
        "\n",
        "# Check accuracy score \n",
        "print('Model accuracy score with 100 decision-trees : {0:0.4f}'. format(accuracy_score(Y_test, Y_pred_100)))"
      ],
      "execution_count": null,
      "outputs": [
        {
          "output_type": "stream",
          "name": "stdout",
          "text": [
            "Model accuracy score with 100 decision-trees : 0.7504\n"
          ]
        }
      ]
    },
    {
      "cell_type": "code",
      "metadata": {
        "colab": {
          "base_uri": "https://localhost:8080/"
        },
        "id": "io4esdC43XGc",
        "outputId": "9be0edad-dc68-4354-938c-c7c5e6ec3f46"
      },
      "source": [
        "# view the feature scores\n",
        "feature_scores = pd.Series(rfc_100.feature_importances_, index=X_train.columns).sort_values(ascending=False)\n",
        "feature_scores"
      ],
      "execution_count": null,
      "outputs": [
        {
          "output_type": "execute_result",
          "data": {
            "text/plain": [
              "coupon_Carry out & Take away                            0.026055\n",
              "coupon_Coffee House                                     0.022853\n",
              "coupon_Restaurant(<20)                                  0.022834\n",
              "CoffeeHouse_never                                       0.022080\n",
              "coupon_Bar                                              0.020927\n",
              "                                                          ...   \n",
              "CarryAway_never                                         0.001371\n",
              "education_Some High School                              0.001165\n",
              "occupation_Production Occupations                       0.000947\n",
              "occupation_Farming Fishing & Forestry                   0.000587\n",
              "occupation_Building & Grounds Cleaning & Maintenance    0.000453\n",
              "Length: 111, dtype: float64"
            ]
          },
          "metadata": {},
          "execution_count": 73
        }
      ]
    },
    {
      "cell_type": "code",
      "metadata": {
        "colab": {
          "base_uri": "https://localhost:8080/"
        },
        "id": "LfCysPuy3er9",
        "outputId": "ee7d6f7f-2886-4551-bd8a-126f169d91ba"
      },
      "source": [
        "# Print the Confusion Matrix and slice it into four pieces\n",
        "cm = confusion_matrix(Y_test, Y_pred)\n",
        "print('Confusion matrix\\n\\n', cm)\n"
      ],
      "execution_count": null,
      "outputs": [
        {
          "output_type": "stream",
          "name": "stdout",
          "text": [
            "Confusion matrix\n",
            "\n",
            " [[ 730  291]\n",
            " [ 373 1022]]\n"
          ]
        }
      ]
    },
    {
      "cell_type": "code",
      "metadata": {
        "colab": {
          "base_uri": "https://localhost:8080/",
          "height": 282
        },
        "id": "xak0JpBL3max",
        "outputId": "e224ef2b-ac6b-438e-8a44-755c1439ad70"
      },
      "source": [
        "# visualize confusion matrix with seaborn heatmap\n",
        "cm_matrix = pd.DataFrame(data=cm, columns=['Actual Positive:1', 'Actual Negative:0'], \n",
        "                                 index=['Predict Positive:1', 'Predict Negative:0'])\n",
        "sns.heatmap(cm_matrix, annot=True, fmt='d', cmap='YlGnBu')"
      ],
      "execution_count": null,
      "outputs": [
        {
          "output_type": "execute_result",
          "data": {
            "text/plain": [
              "<matplotlib.axes._subplots.AxesSubplot at 0x7fea44c3f150>"
            ]
          },
          "metadata": {},
          "execution_count": 76
        },
        {
          "output_type": "display_data",
          "data": {
            "image/png": "[encoded data removed]",
            "text/plain": [
              "<Figure size 432x288 with 2 Axes>"
            ]
          },
          "metadata": {
            "needs_background": "light"
          }
        }
      ]
    },
    {
      "cell_type": "code",
      "metadata": {
        "colab": {
          "base_uri": "https://localhost:8080/"
        },
        "id": "M-mTmfjz3rDm",
        "outputId": "0de2d4e4-f985-4c38-b851-a4bb97fe0121"
      },
      "source": [
        "print(classification_report(Y_test, Y_pred))"
      ],
      "execution_count": null,
      "outputs": [
        {
          "output_type": "stream",
          "name": "stdout",
          "text": [
            "              precision    recall  f1-score   support\n",
            "\n",
            "         0.0       0.66      0.71      0.69      1021\n",
            "         1.0       0.78      0.73      0.75      1395\n",
            "\n",
            "    accuracy                           0.73      2416\n",
            "   macro avg       0.72      0.72      0.72      2416\n",
            "weighted avg       0.73      0.73      0.73      2416\n",
            "\n"
          ]
        }
      ]
    },
    {
      "cell_type": "markdown",
      "metadata": {
        "id": "Vob6KdlP315d"
      },
      "source": [
        "**Random Forest Ends**"
      ]
    },
    {
      "cell_type": "markdown",
      "metadata": {
        "id": "l41YGhfw6ZJM"
      },
      "source": [
        "***Neural Network Start***"
      ]
    },
    {
      "cell_type": "code",
      "metadata": {
        "id": "FZ_ZJ14u4pt3"
      },
      "source": [
        "import warnings\n",
        "warnings.filterwarnings('ignore')"
      ],
      "execution_count": null,
      "outputs": []
    },
    {
      "cell_type": "code",
      "metadata": {
        "id": "cJuElL864ra7"
      },
      "source": [
        "from sklearn.preprocessing import StandardScaler\n",
        "\n",
        "sc = StandardScaler()\n",
        "X_train = sc.fit_transform(X_train)\n",
        "X_test = sc.fit(X_test)"
      ],
      "execution_count": null,
      "outputs": []
    },
    {
      "cell_type": "code",
      "metadata": {
        "colab": {
          "base_uri": "https://localhost:8080/"
        },
        "id": "wyVrwjcg5pm2",
        "outputId": "12a0ae1c-5375-4ed0-b9f3-14c168400c5d"
      },
      "source": [
        "X_train.shape"
      ],
      "execution_count": null,
      "outputs": [
        {
          "output_type": "execute_result",
          "data": {
            "text/plain": [
              "(9663, 111)"
            ]
          },
          "metadata": {},
          "execution_count": 84
        }
      ]
    },
    {
      "cell_type": "code",
      "metadata": {
        "colab": {
          "base_uri": "https://localhost:8080/"
        },
        "id": "ZVahTPax5Fr6",
        "outputId": "4c5c585c-ee3e-477d-c4c1-b176cf0cca1c"
      },
      "source": [
        "import keras\n",
        "from keras.models import Sequential\n",
        "from keras.layers import Dense\n",
        "\n",
        "model_NN = keras.Sequential([\n",
        "          keras.layers.Dense(13, activation='relu', input_shape = (111,)),\n",
        "          keras.layers.Dense(128,activation='relu'),\n",
        "          keras.layers.Dense(1,activation='sigmoid')\n",
        "])\n",
        "\n",
        "# Step 2 - Compile the model\n",
        "model_NN.compile(optimizer = 'sgd',loss='binary_crossentropy',metrics=['accuracy'])\n",
        "\n",
        "model_history = model_NN.fit(X_train,Y_train, epochs=50, validation_split=0.2)"
      ],
      "execution_count": null,
      "outputs": [
        {
          "output_type": "stream",
          "name": "stdout",
          "text": [
            "Epoch 1/50\n",
            "242/242 [==============================] - 1s 2ms/step - loss: 0.6856 - accuracy: 0.5561 - val_loss: 0.6775 - val_accuracy: 0.5861\n",
            "Epoch 2/50\n",
            "242/242 [==============================] - 0s 1ms/step - loss: 0.6739 - accuracy: 0.5829 - val_loss: 0.6713 - val_accuracy: 0.5939\n",
            "Epoch 3/50\n",
            "242/242 [==============================] - 0s 1ms/step - loss: 0.6658 - accuracy: 0.5918 - val_loss: 0.6658 - val_accuracy: 0.5954\n",
            "Epoch 4/50\n",
            "242/242 [==============================] - 0s 1ms/step - loss: 0.6566 - accuracy: 0.6053 - val_loss: 0.6589 - val_accuracy: 0.6079\n",
            "Epoch 5/50\n",
            "242/242 [==============================] - 0s 1ms/step - loss: 0.6465 - accuracy: 0.6188 - val_loss: 0.6505 - val_accuracy: 0.6073\n",
            "Epoch 6/50\n",
            "242/242 [==============================] - 0s 1ms/step - loss: 0.6360 - accuracy: 0.6364 - val_loss: 0.6417 - val_accuracy: 0.6130\n",
            "Epoch 7/50\n",
            "242/242 [==============================] - 0s 1ms/step - loss: 0.6259 - accuracy: 0.6501 - val_loss: 0.6333 - val_accuracy: 0.6260\n",
            "Epoch 8/50\n",
            "242/242 [==============================] - 0s 1ms/step - loss: 0.6167 - accuracy: 0.6595 - val_loss: 0.6259 - val_accuracy: 0.6430\n",
            "Epoch 9/50\n",
            "242/242 [==============================] - 0s 2ms/step - loss: 0.6085 - accuracy: 0.6709 - val_loss: 0.6206 - val_accuracy: 0.6498\n",
            "Epoch 10/50\n",
            "242/242 [==============================] - 0s 2ms/step - loss: 0.6011 - accuracy: 0.6754 - val_loss: 0.6145 - val_accuracy: 0.6560\n",
            "Epoch 11/50\n",
            "242/242 [==============================] - 0s 1ms/step - loss: 0.5948 - accuracy: 0.6797 - val_loss: 0.6099 - val_accuracy: 0.6658\n",
            "Epoch 12/50\n",
            "242/242 [==============================] - 0s 1ms/step - loss: 0.5888 - accuracy: 0.6876 - val_loss: 0.6055 - val_accuracy: 0.6679\n",
            "Epoch 13/50\n",
            "242/242 [==============================] - 0s 1ms/step - loss: 0.5837 - accuracy: 0.6931 - val_loss: 0.6029 - val_accuracy: 0.6772\n",
            "Epoch 14/50\n",
            "242/242 [==============================] - 0s 2ms/step - loss: 0.5791 - accuracy: 0.6991 - val_loss: 0.5990 - val_accuracy: 0.6798\n",
            "Epoch 15/50\n",
            "242/242 [==============================] - 0s 2ms/step - loss: 0.5747 - accuracy: 0.6997 - val_loss: 0.5966 - val_accuracy: 0.6849\n",
            "Epoch 16/50\n",
            "242/242 [==============================] - 0s 1ms/step - loss: 0.5708 - accuracy: 0.7044 - val_loss: 0.5954 - val_accuracy: 0.6834\n",
            "Epoch 17/50\n",
            "242/242 [==============================] - 0s 2ms/step - loss: 0.5674 - accuracy: 0.7074 - val_loss: 0.5915 - val_accuracy: 0.6906\n",
            "Epoch 18/50\n",
            "242/242 [==============================] - 0s 1ms/step - loss: 0.5640 - accuracy: 0.7092 - val_loss: 0.5889 - val_accuracy: 0.6958\n",
            "Epoch 19/50\n",
            "242/242 [==============================] - 0s 2ms/step - loss: 0.5609 - accuracy: 0.7131 - val_loss: 0.5875 - val_accuracy: 0.6994\n",
            "Epoch 20/50\n",
            "242/242 [==============================] - 0s 2ms/step - loss: 0.5577 - accuracy: 0.7168 - val_loss: 0.5856 - val_accuracy: 0.6984\n",
            "Epoch 21/50\n",
            "242/242 [==============================] - 0s 2ms/step - loss: 0.5546 - accuracy: 0.7177 - val_loss: 0.5845 - val_accuracy: 0.6922\n",
            "Epoch 22/50\n",
            "242/242 [==============================] - 0s 1ms/step - loss: 0.5516 - accuracy: 0.7193 - val_loss: 0.5811 - val_accuracy: 0.7036\n",
            "Epoch 23/50\n",
            "242/242 [==============================] - 0s 1ms/step - loss: 0.5483 - accuracy: 0.7208 - val_loss: 0.5792 - val_accuracy: 0.7036\n",
            "Epoch 24/50\n",
            "242/242 [==============================] - 0s 1ms/step - loss: 0.5455 - accuracy: 0.7215 - val_loss: 0.5768 - val_accuracy: 0.7077\n",
            "Epoch 25/50\n",
            "242/242 [==============================] - 0s 1ms/step - loss: 0.5427 - accuracy: 0.7250 - val_loss: 0.5750 - val_accuracy: 0.7051\n",
            "Epoch 26/50\n",
            "242/242 [==============================] - 0s 1ms/step - loss: 0.5396 - accuracy: 0.7264 - val_loss: 0.5736 - val_accuracy: 0.7015\n",
            "Epoch 27/50\n",
            "242/242 [==============================] - 0s 1ms/step - loss: 0.5368 - accuracy: 0.7279 - val_loss: 0.5712 - val_accuracy: 0.7087\n",
            "Epoch 28/50\n",
            "242/242 [==============================] - 0s 1ms/step - loss: 0.5340 - accuracy: 0.7291 - val_loss: 0.5689 - val_accuracy: 0.7118\n",
            "Epoch 29/50\n",
            "242/242 [==============================] - 0s 1ms/step - loss: 0.5310 - accuracy: 0.7331 - val_loss: 0.5676 - val_accuracy: 0.7108\n",
            "Epoch 30/50\n",
            "242/242 [==============================] - 0s 2ms/step - loss: 0.5280 - accuracy: 0.7339 - val_loss: 0.5661 - val_accuracy: 0.7134\n",
            "Epoch 31/50\n",
            "242/242 [==============================] - 0s 1ms/step - loss: 0.5256 - accuracy: 0.7375 - val_loss: 0.5649 - val_accuracy: 0.7175\n",
            "Epoch 32/50\n",
            "242/242 [==============================] - 0s 2ms/step - loss: 0.5229 - accuracy: 0.7401 - val_loss: 0.5632 - val_accuracy: 0.7170\n",
            "Epoch 33/50\n",
            "242/242 [==============================] - 0s 2ms/step - loss: 0.5204 - accuracy: 0.7379 - val_loss: 0.5623 - val_accuracy: 0.7196\n",
            "Epoch 34/50\n",
            "242/242 [==============================] - 0s 2ms/step - loss: 0.5177 - accuracy: 0.7424 - val_loss: 0.5614 - val_accuracy: 0.7170\n",
            "Epoch 35/50\n",
            "242/242 [==============================] - 0s 2ms/step - loss: 0.5150 - accuracy: 0.7455 - val_loss: 0.5603 - val_accuracy: 0.7181\n",
            "Epoch 36/50\n",
            "242/242 [==============================] - 0s 1ms/step - loss: 0.5124 - accuracy: 0.7449 - val_loss: 0.5600 - val_accuracy: 0.7144\n",
            "Epoch 37/50\n",
            "242/242 [==============================] - 0s 2ms/step - loss: 0.5097 - accuracy: 0.7484 - val_loss: 0.5593 - val_accuracy: 0.7165\n",
            "Epoch 38/50\n",
            "242/242 [==============================] - 0s 1ms/step - loss: 0.5069 - accuracy: 0.7486 - val_loss: 0.5590 - val_accuracy: 0.7144\n",
            "Epoch 39/50\n",
            "242/242 [==============================] - 0s 1ms/step - loss: 0.5044 - accuracy: 0.7525 - val_loss: 0.5574 - val_accuracy: 0.7150\n",
            "Epoch 40/50\n",
            "242/242 [==============================] - 0s 1ms/step - loss: 0.5020 - accuracy: 0.7517 - val_loss: 0.5569 - val_accuracy: 0.7150\n",
            "Epoch 41/50\n",
            "242/242 [==============================] - 0s 1ms/step - loss: 0.4991 - accuracy: 0.7564 - val_loss: 0.5556 - val_accuracy: 0.7139\n",
            "Epoch 42/50\n",
            "242/242 [==============================] - 0s 1ms/step - loss: 0.4965 - accuracy: 0.7574 - val_loss: 0.5553 - val_accuracy: 0.7155\n",
            "Epoch 43/50\n",
            "242/242 [==============================] - 0s 1ms/step - loss: 0.4944 - accuracy: 0.7592 - val_loss: 0.5548 - val_accuracy: 0.7217\n",
            "Epoch 44/50\n",
            "242/242 [==============================] - 0s 2ms/step - loss: 0.4916 - accuracy: 0.7586 - val_loss: 0.5549 - val_accuracy: 0.7196\n",
            "Epoch 45/50\n",
            "242/242 [==============================] - 0s 2ms/step - loss: 0.4892 - accuracy: 0.7604 - val_loss: 0.5545 - val_accuracy: 0.7237\n",
            "Epoch 46/50\n",
            "242/242 [==============================] - 0s 1ms/step - loss: 0.4866 - accuracy: 0.7600 - val_loss: 0.5543 - val_accuracy: 0.7253\n",
            "Epoch 47/50\n",
            "242/242 [==============================] - 0s 1ms/step - loss: 0.4842 - accuracy: 0.7646 - val_loss: 0.5552 - val_accuracy: 0.7232\n",
            "Epoch 48/50\n",
            "242/242 [==============================] - 0s 1ms/step - loss: 0.4816 - accuracy: 0.7673 - val_loss: 0.5539 - val_accuracy: 0.7279\n",
            "Epoch 49/50\n",
            "242/242 [==============================] - 0s 1ms/step - loss: 0.4800 - accuracy: 0.7690 - val_loss: 0.5532 - val_accuracy: 0.7268\n",
            "Epoch 50/50\n",
            "242/242 [==============================] - 0s 1ms/step - loss: 0.4777 - accuracy: 0.7673 - val_loss: 0.5531 - val_accuracy: 0.7268\n"
          ]
        }
      ]
    },
    {
      "cell_type": "code",
      "metadata": {
        "colab": {
          "base_uri": "https://localhost:8080/",
          "height": 419
        },
        "id": "WUn8SXrv52kx",
        "outputId": "fe23b502-736a-4284-a142-5e319da82ae8"
      },
      "source": [
        "plt.figure(figsize = (12, 6))\n",
        "\n",
        "train_loss = model_history.history['loss']\n",
        "val_loss = model_history.history['val_loss'] \n",
        "epoch = range(1, 51)\n",
        "sns.lineplot(epoch, train_loss, label = 'Training Loss')\n",
        "sns.lineplot(epoch, val_loss, label = 'Validation Loss')\n",
        "plt.title('Training and Validation Loss\\n')\n",
        "plt.xlabel('Epochs')\n",
        "plt.ylabel('Loss')\n",
        "plt.legend()\n",
        "plt.show()"
      ],
      "execution_count": null,
      "outputs": [
        {
          "output_type": "display_data",
          "data": {
            "image/png": "[encoded data removed]",
            "text/plain": [
              "<Figure size 864x432 with 1 Axes>"
            ]
          },
          "metadata": {
            "needs_background": "light"
          }
        }
      ]
    },
    {
      "cell_type": "code",
      "metadata": {
        "colab": {
          "base_uri": "https://localhost:8080/",
          "height": 419
        },
        "id": "bchsJdgd58Pn",
        "outputId": "56dc058a-2cfd-4ad4-fdb8-3253b3002685"
      },
      "source": [
        "plt.figure(figsize = (12, 6))\n",
        "\n",
        "train_loss = model_history.history['accuracy']\n",
        "val_loss = model_history.history['val_accuracy'] \n",
        "epoch = range(1, 51)\n",
        "sns.lineplot(epoch, train_loss, label = 'Training accuracy')\n",
        "sns.lineplot(epoch, val_loss, label = 'Validation accuracy')\n",
        "plt.title('Training and Validation Accuracy\\n')\n",
        "plt.xlabel('Epochs')\n",
        "plt.ylabel('Accuracy')\n",
        "plt.legend()\n",
        "plt.show()"
      ],
      "execution_count": null,
      "outputs": [
        {
          "output_type": "display_data",
          "data": {
            "image/png": "[encoded data removed]",
            "text/plain": [
              "<Figure size 864x432 with 1 Axes>"
            ]
          },
          "metadata": {
            "needs_background": "light"
          }
        }
      ]
    },
    {
      "cell_type": "markdown",
      "metadata": {
        "id": "yQK5cyKFIOFv"
      },
      "source": [
        "\n"
      ]
    },
    {
      "cell_type": "code",
      "metadata": {
        "colab": {
          "base_uri": "https://localhost:8080/",
          "height": 306
        },
        "id": "902kdguh6AFc",
        "outputId": "b8b0e88b-55f3-494c-e36d-6794a816879e"
      },
      "source": [
        "eval = model_NN.evaluate(X_test,Y_test)"
      ],
      "execution_count": null,
      "outputs": [
        {
          "output_type": "error",
          "ename": "ValueError",
          "evalue": "ignored",
          "traceback": [
            "\u001b[0;31m---------------------------------------------------------------------------\u001b[0m",
            "\u001b[0;31mValueError\u001b[0m                                Traceback (most recent call last)",
            "\u001b[0;32m<ipython-input-88-90b043739f8e>\u001b[0m in \u001b[0;36m<module>\u001b[0;34m()\u001b[0m\n\u001b[0;32m----> 1\u001b[0;31m \u001b[0meval\u001b[0m \u001b[0;34m=\u001b[0m \u001b[0mmodel_NN\u001b[0m\u001b[0;34m.\u001b[0m\u001b[0mevaluate\u001b[0m\u001b[0;34m(\u001b[0m\u001b[0mX_test\u001b[0m\u001b[0;34m,\u001b[0m\u001b[0mY_test\u001b[0m\u001b[0;34m)\u001b[0m\u001b[0;34m\u001b[0m\u001b[0;34m\u001b[0m\u001b[0m\n\u001b[0m",
            "\u001b[0;32m/usr/local/lib/python3.7/dist-packages/keras/engine/training.py\u001b[0m in \u001b[0;36mevaluate\u001b[0;34m(self, x, y, batch_size, verbose, sample_weight, steps, callbacks, max_queue_size, workers, use_multiprocessing, return_dict, **kwargs)\u001b[0m\n\u001b[1;32m   1476\u001b[0m             \u001b[0muse_multiprocessing\u001b[0m\u001b[0;34m=\u001b[0m\u001b[0muse_multiprocessing\u001b[0m\u001b[0;34m,\u001b[0m\u001b[0;34m\u001b[0m\u001b[0;34m\u001b[0m\u001b[0m\n\u001b[1;32m   1477\u001b[0m             \u001b[0mmodel\u001b[0m\u001b[0;34m=\u001b[0m\u001b[0mself\u001b[0m\u001b[0;34m,\u001b[0m\u001b[0;34m\u001b[0m\u001b[0;34m\u001b[0m\u001b[0m\n\u001b[0;32m-> 1478\u001b[0;31m             steps_per_execution=self._steps_per_execution)\n\u001b[0m\u001b[1;32m   1479\u001b[0m \u001b[0;34m\u001b[0m\u001b[0m\n\u001b[1;32m   1480\u001b[0m       \u001b[0;31m# Container that configures and calls `tf.keras.Callback`s.\u001b[0m\u001b[0;34m\u001b[0m\u001b[0;34m\u001b[0m\u001b[0;34m\u001b[0m\u001b[0m\n",
            "\u001b[0;32m/usr/local/lib/python3.7/dist-packages/keras/engine/data_adapter.py\u001b[0m in \u001b[0;36mget_data_handler\u001b[0;34m(*args, **kwargs)\u001b[0m\n\u001b[1;32m   1381\u001b[0m   \u001b[0;32mif\u001b[0m \u001b[0mgetattr\u001b[0m\u001b[0;34m(\u001b[0m\u001b[0mkwargs\u001b[0m\u001b[0;34m[\u001b[0m\u001b[0;34m\"model\"\u001b[0m\u001b[0;34m]\u001b[0m\u001b[0;34m,\u001b[0m \u001b[0;34m\"_cluster_coordinator\"\u001b[0m\u001b[0;34m,\u001b[0m \u001b[0;32mNone\u001b[0m\u001b[0;34m)\u001b[0m\u001b[0;34m:\u001b[0m\u001b[0;34m\u001b[0m\u001b[0;34m\u001b[0m\u001b[0m\n\u001b[1;32m   1382\u001b[0m     \u001b[0;32mreturn\u001b[0m \u001b[0m_ClusterCoordinatorDataHandler\u001b[0m\u001b[0;34m(\u001b[0m\u001b[0;34m*\u001b[0m\u001b[0margs\u001b[0m\u001b[0;34m,\u001b[0m \u001b[0;34m**\u001b[0m\u001b[0mkwargs\u001b[0m\u001b[0;34m)\u001b[0m\u001b[0;34m\u001b[0m\u001b[0;34m\u001b[0m\u001b[0m\n\u001b[0;32m-> 1383\u001b[0;31m   \u001b[0;32mreturn\u001b[0m \u001b[0mDataHandler\u001b[0m\u001b[0;34m(\u001b[0m\u001b[0;34m*\u001b[0m\u001b[0margs\u001b[0m\u001b[0;34m,\u001b[0m \u001b[0;34m**\u001b[0m\u001b[0mkwargs\u001b[0m\u001b[0;34m)\u001b[0m\u001b[0;34m\u001b[0m\u001b[0;34m\u001b[0m\u001b[0m\n\u001b[0m\u001b[1;32m   1384\u001b[0m \u001b[0;34m\u001b[0m\u001b[0m\n\u001b[1;32m   1385\u001b[0m \u001b[0;34m\u001b[0m\u001b[0m\n",
            "\u001b[0;32m/usr/local/lib/python3.7/dist-packages/keras/engine/data_adapter.py\u001b[0m in \u001b[0;36m__init__\u001b[0;34m(self, x, y, sample_weight, batch_size, steps_per_epoch, initial_epoch, epochs, shuffle, class_weight, max_queue_size, workers, use_multiprocessing, model, steps_per_execution, distribute)\u001b[0m\n\u001b[1;32m   1135\u001b[0m       \u001b[0mself\u001b[0m\u001b[0;34m.\u001b[0m\u001b[0m_steps_per_execution_value\u001b[0m \u001b[0;34m=\u001b[0m \u001b[0msteps_per_execution\u001b[0m\u001b[0;34m.\u001b[0m\u001b[0mnumpy\u001b[0m\u001b[0;34m(\u001b[0m\u001b[0;34m)\u001b[0m\u001b[0;34m.\u001b[0m\u001b[0mitem\u001b[0m\u001b[0;34m(\u001b[0m\u001b[0;34m)\u001b[0m\u001b[0;34m\u001b[0m\u001b[0;34m\u001b[0m\u001b[0m\n\u001b[1;32m   1136\u001b[0m \u001b[0;34m\u001b[0m\u001b[0m\n\u001b[0;32m-> 1137\u001b[0;31m     \u001b[0madapter_cls\u001b[0m \u001b[0;34m=\u001b[0m \u001b[0mselect_data_adapter\u001b[0m\u001b[0;34m(\u001b[0m\u001b[0mx\u001b[0m\u001b[0;34m,\u001b[0m \u001b[0my\u001b[0m\u001b[0;34m)\u001b[0m\u001b[0;34m\u001b[0m\u001b[0;34m\u001b[0m\u001b[0m\n\u001b[0m\u001b[1;32m   1138\u001b[0m     self._adapter = adapter_cls(\n\u001b[1;32m   1139\u001b[0m         \u001b[0mx\u001b[0m\u001b[0;34m,\u001b[0m\u001b[0;34m\u001b[0m\u001b[0;34m\u001b[0m\u001b[0m\n",
            "\u001b[0;32m/usr/local/lib/python3.7/dist-packages/keras/engine/data_adapter.py\u001b[0m in \u001b[0;36mselect_data_adapter\u001b[0;34m(x, y)\u001b[0m\n\u001b[1;32m    977\u001b[0m         \u001b[0;34m\"Failed to find data adapter that can handle \"\u001b[0m\u001b[0;34m\u001b[0m\u001b[0;34m\u001b[0m\u001b[0m\n\u001b[1;32m    978\u001b[0m         \"input: {}, {}\".format(\n\u001b[0;32m--> 979\u001b[0;31m             _type_name(x), _type_name(y)))\n\u001b[0m\u001b[1;32m    980\u001b[0m   \u001b[0;32melif\u001b[0m \u001b[0mlen\u001b[0m\u001b[0;34m(\u001b[0m\u001b[0madapter_cls\u001b[0m\u001b[0;34m)\u001b[0m \u001b[0;34m>\u001b[0m \u001b[0;36m1\u001b[0m\u001b[0;34m:\u001b[0m\u001b[0;34m\u001b[0m\u001b[0;34m\u001b[0m\u001b[0m\n\u001b[1;32m    981\u001b[0m     raise RuntimeError(\n",
            "\u001b[0;31mValueError\u001b[0m: Failed to find data adapter that can handle input: <class 'sklearn.preprocessing._data.StandardScaler'>, <class 'numpy.ndarray'>"
          ]
        }
      ]
    },
    {
      "cell_type": "markdown",
      "metadata": {
        "id": "JKsQ8o2HMzIT"
      },
      "source": [
        "Data cleanup\n",
        "All the NAs were removed from the dataset."
      ]
    },
    {
      "cell_type": "markdown",
      "metadata": {
        "id": "Djnm8hMKM4ee"
      },
      "source": [
        "EDA: the coupon acceptance was checked against various parameters like weather, destination etc. Bar plots are shared  in the analysis above."
      ]
    },
    {
      "cell_type": "markdown",
      "metadata": {
        "id": "X0UxRiYuNCcM"
      },
      "source": [
        "Metric:Accuracy is the quintessential classification metric. It is pretty easy to understand. And easily suited for binary as well as a multiclass classification problem. Accuracy is the proportion of true results among the total number of cases examined"
      ]
    },
    {
      "cell_type": "markdown",
      "metadata": {
        "id": "oyCPDUCnJfbH"
      },
      "source": [
        "Management Summary\n",
        "The ata was collected via a survey on Amazon Mechanical Turk. The survey describes different driving scenarios including the destination, current time, weather, passenger, etc., and then ask the\n",
        "person whether he will accept the coupon if he is the driver.\n",
        "\n",
        "\n",
        "Initial data exploration  shows more than 50% of the drivers are accepting the coupon. The most accepted coupons are restaurant and coffee house coupons. the income group 12500-50K, accepts most of the coupons while the distribution is not much varied for male and female counterparts. Most of the coupons are accepted during the evening time . Distance to coupon  redemption centre and direction if restaurant/coffee house does not impact the coupon acceptance rate. Couopns that  have longer validity are accepted more.Coupons are most likely accepted  when the weather is sunny and destination is not an urgent place.\n",
        "Various classification algorithms were  run on the dataset to check  how accurately are we able to predict the acceptance of coupon.with  the help of Random Forest and Neural Netwroks classifier, we are able  to predict the couopn acceptance with an  accuracy rate of 73%. the Random Forest classifier also shows that type of coupon is  the most important deciding factor  for coupon acceptance."
      ]
    },
    {
      "cell_type": "markdown",
      "metadata": {
        "id": "RP3QmUsD6gIL"
      },
      "source": [
        "***Neural Network Ends***"
      ]
    }
  ]
}